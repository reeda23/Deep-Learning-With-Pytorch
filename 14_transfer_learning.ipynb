{
  "nbformat": 4,
  "nbformat_minor": 0,
  "metadata": {
    "colab": {
      "name": "14_transfer_learning.ipynb",
      "provenance": [],
      "mount_file_id": "1ppUXoyoS5L4oQ-D6LzwnaPA_fL3wZlmj",
      "authorship_tag": "ABX9TyOt8yX3rhx9nJH+CWpF+H9s",
      "include_colab_link": true
    },
    "kernelspec": {
      "name": "python3",
      "display_name": "Python 3"
    },
    "language_info": {
      "name": "python"
    },
    "gpuClass": "standard",
    "accelerator": "GPU"
  },
  "cells": [
    {
      "cell_type": "markdown",
      "metadata": {
        "id": "view-in-github",
        "colab_type": "text"
      },
      "source": [
        "<a href=\"https://colab.research.google.com/github/reeda23/Deep-Learning-With-Pytorch/blob/main/14_transfer_learning.ipynb\" target=\"_parent\"><img src=\"https://colab.research.google.com/assets/colab-badge.svg\" alt=\"Open In Colab\"/></a>"
      ]
    },
    {
      "cell_type": "markdown",
      "source": [
        "\n",
        "\n",
        "# Transfer Learning\n",
        "\n"
      ],
      "metadata": {
        "id": "9CP_mOBduBXk"
      }
    },
    {
      "cell_type": "markdown",
      "source": [
        "Importing Libraries"
      ],
      "metadata": {
        "id": "_bDnMI9GuHM9"
      }
    },
    {
      "cell_type": "code",
      "source": [
        "from google.colab import drive\n",
        "drive.mount('/content/drive')"
      ],
      "metadata": {
        "colab": {
          "base_uri": "https://localhost:8080/"
        },
        "id": "nuDhTXkrycCm",
        "outputId": "ebdf423b-2b37-4553-c1e8-9805b8001cfd"
      },
      "execution_count": 1,
      "outputs": [
        {
          "output_type": "stream",
          "name": "stdout",
          "text": [
            "Drive already mounted at /content/drive; to attempt to forcibly remount, call drive.mount(\"/content/drive\", force_remount=True).\n"
          ]
        }
      ]
    },
    {
      "cell_type": "code",
      "source": [
        "!ls"
      ],
      "metadata": {
        "colab": {
          "base_uri": "https://localhost:8080/"
        },
        "id": "lwiQtyd3y6An",
        "outputId": "202fc7f9-334f-4af6-9b25-fd930d16790a"
      },
      "execution_count": 2,
      "outputs": [
        {
          "output_type": "stream",
          "name": "stdout",
          "text": [
            "drive  sample_data\n"
          ]
        }
      ]
    },
    {
      "cell_type": "code",
      "source": [
        ""
      ],
      "metadata": {
        "id": "Yjb69mjey_Rd"
      },
      "execution_count": null,
      "outputs": []
    },
    {
      "cell_type": "code",
      "source": [
        "import os\n",
        "os.environ['KAGGLE_CONFIG_DIR'] = \"/content/drive/MyDrive/Colab Notebooks/Deep_Learning_With_Pytorch/data\"\n",
        "os.environ['KAGGLE_USERNAME'] = \"reedasaeed\" # username from the json file\n",
        "os.environ['KAGGLE_KEY'] = \"43209f85217ace206e0a706ff21c6f95\" # key from the json file"
      ],
      "metadata": {
        "id": "dclyvwEEwUKm"
      },
      "execution_count": null,
      "outputs": []
    },
    {
      "cell_type": "code",
      "source": [
        "%cd \"/content/drive/MyDrive/Colab Notebooks/Deep_Learning_With_Pytorch/data\""
      ],
      "metadata": {
        "colab": {
          "base_uri": "https://localhost:8080/"
        },
        "id": "qTqSwWTIyfGX",
        "outputId": "530a5fbf-9459-4cdb-964e-092f33d52832"
      },
      "execution_count": 4,
      "outputs": [
        {
          "output_type": "stream",
          "name": "stdout",
          "text": [
            "/content/drive/MyDrive/Colab Notebooks/Deep_Learning_With_Pytorch/data\n"
          ]
        }
      ]
    },
    {
      "cell_type": "code",
      "source": [
        "!pwd"
      ],
      "metadata": {
        "colab": {
          "base_uri": "https://localhost:8080/"
        },
        "id": "IcZ03CUCzo74",
        "outputId": "4834c6f1-bdf7-4849-b9b2-9907b8b018aa"
      },
      "execution_count": 5,
      "outputs": [
        {
          "output_type": "stream",
          "name": "stdout",
          "text": [
            "/content/drive/MyDrive/Colab Notebooks/Deep_Learning_With_Pytorch/data\n"
          ]
        }
      ]
    },
    {
      "cell_type": "code",
      "source": [
        "!kaggle datasets download -d ajayrana/hymenoptera-data"
      ],
      "metadata": {
        "colab": {
          "base_uri": "https://localhost:8080/"
        },
        "id": "rVv0CX-yw0uN",
        "outputId": "8f1b1c51-2f7a-498e-f76b-3a0f390c4944"
      },
      "execution_count": null,
      "outputs": [
        {
          "output_type": "stream",
          "name": "stdout",
          "text": [
            "Downloading hymenoptera-data.zip to /content/drive/MyDrive/Colab Notebooks/Deep_Learning_With_Pytorch/data\n",
            " 86% 78.0M/90.2M [00:00<00:00, 214MB/s]\n",
            "100% 90.2M/90.2M [00:00<00:00, 186MB/s]\n"
          ]
        }
      ]
    },
    {
      "cell_type": "code",
      "source": [
        "import zipfile\n",
        "with zipfile.ZipFile('/content/drive/MyDrive/Colab Notebooks/Deep_Learning_With_Pytorch/data/hymenoptera-data.zip', 'r') as zip_ref:\n",
        "    zip_ref.extractall('/content/drive/MyDrive/Colab Notebooks/Deep_Learning_With_Pytorch/data')"
      ],
      "metadata": {
        "id": "Cq-J1WVj00rY"
      },
      "execution_count": null,
      "outputs": []
    },
    {
      "cell_type": "code",
      "execution_count": 6,
      "metadata": {
        "id": "lHXIStwxsdMn"
      },
      "outputs": [],
      "source": [
        "import torch\n",
        "import torch.nn as nn\n",
        "import torch.optim as optim\n",
        "from torch.optim import lr_scheduler \n",
        "import numpy as np\n",
        "import torchvision\n",
        "from torchvision import datasets, models, transforms\n",
        "import matplotlib.pyplot as plt\n",
        "import time\n",
        "import os \n",
        "import copy"
      ]
    },
    {
      "cell_type": "markdown",
      "source": [
        ""
      ],
      "metadata": {
        "id": "9wEMkxbjuJqR"
      }
    },
    {
      "cell_type": "code",
      "source": [
        "mean = np.array([0.5,0.5,0.5])\n",
        "std = np.array([0.25,0.25,0.25])"
      ],
      "metadata": {
        "id": "WBkzEJG-t_Dt"
      },
      "execution_count": 7,
      "outputs": []
    },
    {
      "cell_type": "markdown",
      "source": [
        "# Data Transformations"
      ],
      "metadata": {
        "id": "FDMI7P6suUNs"
      }
    },
    {
      "cell_type": "code",
      "source": [
        "data_transforms = {\n",
        "    'train': transforms.Compose([\n",
        "        transforms.RandomResizedCrop(224),\n",
        "        transforms.RandomHorizontalFlip(),\n",
        "        transforms.ToTensor(),\n",
        "        transforms.Normalize(mean,std)\n",
        "    ]),\n",
        "    'val': transforms.Compose([\n",
        "        transforms.Resize(256),\n",
        "        transforms.CenterCrop(224),\n",
        "        transforms.ToTensor(),\n",
        "        transforms.Normalize(mean,std)\n",
        "    ]),\n",
        "}"
      ],
      "metadata": {
        "id": "mUM0agM7uTst"
      },
      "execution_count": 8,
      "outputs": []
    },
    {
      "cell_type": "markdown",
      "source": [
        "# Data Loader"
      ],
      "metadata": {
        "id": "TGEpZCUW4sFz"
      }
    },
    {
      "cell_type": "code",
      "source": [
        "data_dir = '/content/drive/MyDrive/Colab Notebooks/Deep_Learning_With_Pytorch/data/hymenoptera_data'\n",
        "image_datasets = {x: datasets.ImageFolder(os.path.join(data_dir,x),data_transforms[x])\n",
        "                  for x in ['train', 'val']}\n",
        "\n",
        "dataloaders = {x: torch.utils.data.DataLoader(image_datasets[x], batch_size=4,shuffle=True, num_workers=0)\n",
        "                    for x in ['train', 'val']}\n",
        "\n",
        "dataset_sizes = {x: len(image_datasets[x]) for x in ['train', 'val']}\n",
        "class_names = image_datasets['train'].classes"
      ],
      "metadata": {
        "id": "l1jI7fhH1Jol"
      },
      "execution_count": 9,
      "outputs": []
    },
    {
      "cell_type": "markdown",
      "source": [
        "# Device Configuration"
      ],
      "metadata": {
        "id": "fvUWABeP42lu"
      }
    },
    {
      "cell_type": "code",
      "source": [
        "device = torch.device(\"cuda:0\" if torch.cuda.is_available() else \"cpu\")"
      ],
      "metadata": {
        "id": "t3kzk0dB4o_v"
      },
      "execution_count": 10,
      "outputs": []
    },
    {
      "cell_type": "code",
      "source": [
        "print(class_names)"
      ],
      "metadata": {
        "colab": {
          "base_uri": "https://localhost:8080/"
        },
        "id": "HTk9lYzJ5NvL",
        "outputId": "17669cb7-1d20-4e97-f708-4cae82d974db"
      },
      "execution_count": 11,
      "outputs": [
        {
          "output_type": "stream",
          "name": "stdout",
          "text": [
            "['ants', 'bees']\n"
          ]
        }
      ]
    },
    {
      "cell_type": "markdown",
      "source": [
        "# Imshow for tensors"
      ],
      "metadata": {
        "id": "3d5Y3fjF5U6b"
      }
    },
    {
      "cell_type": "code",
      "source": [
        "def imshow(inp, title):\n",
        "    \"\"\"Imshow for Tensor.\"\"\"\n",
        "    inp = inp.numpy().transpose((1, 2, 0))\n",
        "    inp = std * inp + mean\n",
        "    inp = np.clip(inp, 0, 1)\n",
        "    plt.imshow(inp)\n",
        "    plt.title(title)\n",
        "    plt.show()"
      ],
      "metadata": {
        "id": "e2tVNhUA5P1y"
      },
      "execution_count": 12,
      "outputs": []
    },
    {
      "cell_type": "code",
      "source": [
        "#Get a batch of training data\n",
        "inputs, classes = next(iter(dataloaders['train']))\n",
        "\n",
        "#make a grid from batch\n",
        "out = torchvision.utils.make_grid(inputs)\n",
        "\n",
        "imshow(out, title=[class_names[x] for x in classes])"
      ],
      "metadata": {
        "colab": {
          "base_uri": "https://localhost:8080/",
          "height": 148
        },
        "id": "10rox9dV6VIV",
        "outputId": "c68c89ce-7e12-40ca-9691-853a4219913d"
      },
      "execution_count": 13,
      "outputs": [
        {
          "output_type": "display_data",
          "data": {
            "text/plain": [
              "<Figure size 432x288 with 1 Axes>"
            ],
            "image/png": "[encoded data removed]"
          },
          "metadata": {
            "needs_background": "light"
          }
        }
      ]
    },
    {
      "cell_type": "markdown",
      "source": [
        "# Training"
      ],
      "metadata": {
        "id": "n8iGNCcD8Di5"
      }
    },
    {
      "cell_type": "code",
      "source": [
        "def train_model(model, criterion, optimizer, scheduler, num_epochs=25):\n",
        "    since = time.time()\n",
        "\n",
        "    best_model_wts = copy.deepcopy(model.state_dict())\n",
        "    best_acc = 0.0\n",
        "\n",
        "\n",
        "    for epoch in range(num_epochs):\n",
        "        print('Epoch {}/{}'.format(epoch, num_epochs -1))\n",
        "        print('-' * 10)\n",
        "\n",
        "        #Each epoch has a training and validation phase\n",
        "        for phase in ['train', 'val']:\n",
        "            if phase == 'train':\n",
        "                model.train() #Set model to training mode\n",
        "            else:\n",
        "                model.eval() #Set model to evaluate mode\n",
        "\n",
        "            running_loss = 0.0\n",
        "            running_corrects = 0\n",
        "\n",
        "            #Iterate over data.\n",
        "            for inputs, labels in dataloaders[phase]:\n",
        "                inputs = inputs.to(device)\n",
        "                labels = labels.to(device)\n",
        "\n",
        "                #forward\n",
        "                #track history if only in train\n",
        "                with torch.set_grad_enabled(phase == 'train'):\n",
        "                    outputs = model(inputs)\n",
        "                    _, preds = torch.max(outputs, 1)\n",
        "                    loss = criterion(outputs, labels)\n",
        "\n",
        "                    #backward + optimize only if in training phase \n",
        "                    if phase == 'train':\n",
        "                        optimizer.zero_grad()\n",
        "                        loss.backward()\n",
        "                        optimizer.step()\n",
        "\n",
        "                    #statistics\n",
        "                    running_loss +=loss.item() * inputs.size(0)\n",
        "                    running_corrects += torch.sum(preds == labels.data)\n",
        "\n",
        "            if phase == 'train':\n",
        "                scheduler.step()\n",
        "\n",
        "            epoch_loss = running_loss / dataset_sizes[phase]\n",
        "            epoch_acc = running_corrects.double() / dataset_sizes[phase]\n",
        "\n",
        "            print('{} Loss: {:.4f} Acc: {:.4f}'.format(phase, epoch_loss, epoch_acc))\n",
        "\n",
        "            #deep copy the model\n",
        "            if phase == 'val' and epoch_acc > best_acc:\n",
        "                best_acc = epoch_acc\n",
        "                best_model_wts = copy.deepcopy(model.state_dict())\n",
        "        \n",
        "        print()\n",
        "    \n",
        "        time_elapsed = time.time() - since\n",
        "    print('Training complete in {:.0f}m {:.0f}s'.format(\n",
        "        time_elapsed // 60, time_elapsed % 60))\n",
        "    print('Best val Acc: {:4f}'.format(best_acc))\n",
        "\n",
        "    # load best model weights\n",
        "    model.load_state_dict(best_model_wts)\n",
        "    return \n",
        "\n"
      ],
      "metadata": {
        "id": "HCMHYop78DHH"
      },
      "execution_count": 16,
      "outputs": []
    },
    {
      "cell_type": "markdown",
      "source": [
        "# Model"
      ],
      "metadata": {
        "id": "bZmr8Z3E9Ido"
      }
    },
    {
      "cell_type": "code",
      "source": [
        "#### Finetuning the convnet ####\n",
        "# Load a pretrained model and reset final fully connected layer.\n",
        "\n",
        "model = models.resnet18(pretrained = True)\n",
        "num_ftrs = model.fc.in_features\n",
        "\n",
        "# Here the size of each output sample is set to 2.\n",
        "# Alternatively, it can be generalized to nn.Linear(num_ftrs, len(class_names).\n",
        "\n",
        "model = model.to(device)\n",
        "\n",
        "criterion = nn.CrossEntropyLoss()\n",
        "\n",
        "# Observe that all parameters are being optimized\n",
        "optimizer = optim.SGD(model.parameters(), lr = 0.001)\n",
        "\n",
        "# StepLR Decays the learning rate of each parameter group by gamma every step_size epochs\n",
        "# Decay LR by a factor of 0.1 every 7 epochs\n",
        "# Learning rate scheduling should be applied after optimizer’s update\n",
        "# e.g., you should write your code this way:\n",
        "# for epoch in range(100):\n",
        "#     train(...)\n",
        "#     validate(...)\n",
        "#     scheduler.step()\n",
        "\n",
        "\n",
        "step_lr_schedular = lr_scheduler.StepLR(optimizer, step_size = 7, gamma = 0.1)\n",
        "model = train_model(model, criterion, optimizer, step_lr_schedular, num_epochs = 25)\n",
        "\n"
      ],
      "metadata": {
        "id": "n4tdkN186Rgy",
        "colab": {
          "base_uri": "https://localhost:8080/"
        },
        "outputId": "416eaa6e-f05d-4675-f171-1b0f470b4ad3"
      },
      "execution_count": 17,
      "outputs": [
        {
          "output_type": "stream",
          "name": "stdout",
          "text": [
            "Epoch 0/24\n",
            "----------\n",
            "train Loss: 3.6539 Acc: 0.4262\n",
            "val Loss: 1.5009 Acc: 0.6536\n",
            "\n",
            "Epoch 1/24\n",
            "----------\n",
            "train Loss: 0.7162 Acc: 0.7951\n",
            "val Loss: 0.7573 Acc: 0.7712\n",
            "\n",
            "Epoch 2/24\n",
            "----------\n",
            "train Loss: 0.6374 Acc: 0.7746\n",
            "val Loss: 0.5524 Acc: 0.8497\n",
            "\n",
            "Epoch 3/24\n",
            "----------\n",
            "train Loss: 0.5566 Acc: 0.7705\n",
            "val Loss: 0.4156 Acc: 0.8758\n",
            "\n",
            "Epoch 4/24\n",
            "----------\n",
            "train Loss: 0.5013 Acc: 0.7910\n",
            "val Loss: 0.3949 Acc: 0.8758\n",
            "\n",
            "Epoch 5/24\n",
            "----------\n",
            "train Loss: 0.3587 Acc: 0.8361\n",
            "val Loss: 0.3499 Acc: 0.9020\n",
            "\n",
            "Epoch 6/24\n",
            "----------\n",
            "train Loss: 0.4468 Acc: 0.8279\n",
            "val Loss: 0.3081 Acc: 0.8954\n",
            "\n",
            "Epoch 7/24\n",
            "----------\n",
            "train Loss: 0.2815 Acc: 0.8770\n",
            "val Loss: 0.3273 Acc: 0.9020\n",
            "\n",
            "Epoch 8/24\n",
            "----------\n",
            "train Loss: 0.3575 Acc: 0.8238\n",
            "val Loss: 0.3038 Acc: 0.8758\n",
            "\n",
            "Epoch 9/24\n",
            "----------\n",
            "train Loss: 0.3416 Acc: 0.8566\n",
            "val Loss: 0.3162 Acc: 0.9150\n",
            "\n",
            "Epoch 10/24\n",
            "----------\n",
            "train Loss: 0.3658 Acc: 0.8484\n",
            "val Loss: 0.3224 Acc: 0.9085\n",
            "\n",
            "Epoch 11/24\n",
            "----------\n",
            "train Loss: 0.2907 Acc: 0.8852\n",
            "val Loss: 0.3252 Acc: 0.8954\n",
            "\n",
            "Epoch 12/24\n",
            "----------\n",
            "train Loss: 0.3452 Acc: 0.8525\n",
            "val Loss: 0.3379 Acc: 0.8758\n",
            "\n",
            "Epoch 13/24\n",
            "----------\n",
            "train Loss: 0.4007 Acc: 0.8443\n",
            "val Loss: 0.3131 Acc: 0.9216\n",
            "\n",
            "Epoch 14/24\n",
            "----------\n",
            "train Loss: 0.3236 Acc: 0.8607\n",
            "val Loss: 0.3217 Acc: 0.9020\n",
            "\n",
            "Epoch 15/24\n",
            "----------\n",
            "train Loss: 0.3636 Acc: 0.8197\n",
            "val Loss: 0.3190 Acc: 0.9281\n",
            "\n",
            "Epoch 16/24\n",
            "----------\n",
            "train Loss: 0.3644 Acc: 0.8525\n",
            "val Loss: 0.3209 Acc: 0.8758\n",
            "\n",
            "Epoch 17/24\n",
            "----------\n",
            "train Loss: 0.3050 Acc: 0.8689\n",
            "val Loss: 0.3043 Acc: 0.9020\n",
            "\n",
            "Epoch 18/24\n",
            "----------\n",
            "train Loss: 0.4012 Acc: 0.8361\n",
            "val Loss: 0.3120 Acc: 0.9150\n",
            "\n",
            "Epoch 19/24\n",
            "----------\n",
            "train Loss: 0.3734 Acc: 0.8484\n",
            "val Loss: 0.3361 Acc: 0.8954\n",
            "\n",
            "Epoch 20/24\n",
            "----------\n",
            "train Loss: 0.3276 Acc: 0.8811\n",
            "val Loss: 0.3150 Acc: 0.8889\n",
            "\n",
            "Epoch 21/24\n",
            "----------\n",
            "train Loss: 0.4428 Acc: 0.8156\n",
            "val Loss: 0.3119 Acc: 0.9085\n",
            "\n",
            "Epoch 22/24\n",
            "----------\n",
            "train Loss: 0.3640 Acc: 0.8525\n",
            "val Loss: 0.3357 Acc: 0.8824\n",
            "\n",
            "Epoch 23/24\n",
            "----------\n",
            "train Loss: 0.3806 Acc: 0.8443\n",
            "val Loss: 0.3379 Acc: 0.9020\n",
            "\n",
            "Epoch 24/24\n",
            "----------\n",
            "train Loss: 0.3545 Acc: 0.8730\n",
            "val Loss: 0.2914 Acc: 0.9150\n",
            "\n",
            "Training complete in 3m 16s\n",
            "Best val Acc: 0.928105\n"
          ]
        }
      ]
    },
    {
      "cell_type": "markdown",
      "source": [
        "# ConvNet as fixed feature extractor"
      ],
      "metadata": {
        "id": "s9-OW12R7At6"
      }
    },
    {
      "cell_type": "code",
      "source": [
        "#### ConvNet as fixed feature extractor ####\n",
        "# Here, we need to freeze all the network except the final layer.\n",
        "# We need to set requires_grad == False to freeze the parameters so that the gradients are not computed in backward()\n",
        "\n",
        "model_conv = torchvision.models.resnet18(pretrained=True)\n",
        "for param in model_conv.parameters():\n",
        "    param.requires_grad = False\n",
        "\n",
        "#Parameters of newly constructed modules have requires_grad = True by default\n",
        "num_ftrs = model_conv.fc.in_features\n",
        "model_conv.fc = nn.Linear(num_ftrs, 2)\n",
        "\n",
        "model_conv = model_conv.to(device)\n",
        "\n",
        "criterion = nn.CrossEntropyLoss()\n",
        "\n",
        "# Observe that only parameters of final layer are being optimized as\n",
        "# opossed to before.\n",
        "\n",
        "optimizer_conv = optim.SGD(model_conv.fc.parameters(), lr = 0.001, momentum=0.9)\n",
        "\n",
        "#Decay LR by factor of 0.1 every 7 epochs\n",
        "\n",
        "exp_lr_scheduler = lr_scheduler.StepLR(optimizer_conv, step_size=7, gamma=0.1)\n",
        "\n",
        "model_conv = train_model(model_conv, criterion, optimizer_conv, exp_lr_scheduler, num_epochs=25)"
      ],
      "metadata": {
        "colab": {
          "base_uri": "https://localhost:8080/"
        },
        "id": "T1JRPtXk7AOQ",
        "outputId": "6a0c0069-fdc4-4436-87fe-631b4df18f93"
      },
      "execution_count": 19,
      "outputs": [
        {
          "output_type": "stream",
          "name": "stdout",
          "text": [
            "Epoch 0/24\n",
            "----------\n",
            "train Loss: 0.5618 Acc: 0.7090\n",
            "val Loss: 0.2553 Acc: 0.8954\n",
            "\n",
            "Epoch 1/24\n",
            "----------\n",
            "train Loss: 0.4758 Acc: 0.7787\n",
            "val Loss: 0.3007 Acc: 0.8627\n",
            "\n",
            "Epoch 2/24\n",
            "----------\n",
            "train Loss: 0.4709 Acc: 0.8115\n",
            "val Loss: 0.2416 Acc: 0.9216\n",
            "\n",
            "Epoch 3/24\n",
            "----------\n",
            "train Loss: 0.5156 Acc: 0.7869\n",
            "val Loss: 0.1837 Acc: 0.9542\n",
            "\n",
            "Epoch 4/24\n",
            "----------\n",
            "train Loss: 0.4763 Acc: 0.7910\n",
            "val Loss: 0.3842 Acc: 0.8170\n",
            "\n",
            "Epoch 5/24\n",
            "----------\n",
            "train Loss: 0.5079 Acc: 0.7992\n",
            "val Loss: 0.4434 Acc: 0.8301\n",
            "\n",
            "Epoch 6/24\n",
            "----------\n",
            "train Loss: 0.5211 Acc: 0.7869\n",
            "val Loss: 0.3024 Acc: 0.9020\n",
            "\n",
            "Epoch 7/24\n",
            "----------\n",
            "train Loss: 0.3727 Acc: 0.8197\n",
            "val Loss: 0.1769 Acc: 0.9608\n",
            "\n",
            "Epoch 8/24\n",
            "----------\n",
            "train Loss: 0.3624 Acc: 0.8402\n",
            "val Loss: 0.2132 Acc: 0.9412\n",
            "\n",
            "Epoch 9/24\n",
            "----------\n",
            "train Loss: 0.3722 Acc: 0.8361\n",
            "val Loss: 0.1894 Acc: 0.9542\n",
            "\n",
            "Epoch 10/24\n",
            "----------\n",
            "train Loss: 0.3023 Acc: 0.8648\n",
            "val Loss: 0.2056 Acc: 0.9412\n",
            "\n",
            "Epoch 11/24\n",
            "----------\n",
            "train Loss: 0.3215 Acc: 0.8689\n",
            "val Loss: 0.1970 Acc: 0.9542\n",
            "\n",
            "Epoch 12/24\n",
            "----------\n",
            "train Loss: 0.3635 Acc: 0.8238\n",
            "val Loss: 0.1799 Acc: 0.9542\n",
            "\n",
            "Epoch 13/24\n",
            "----------\n",
            "train Loss: 0.3397 Acc: 0.8443\n",
            "val Loss: 0.1807 Acc: 0.9542\n",
            "\n",
            "Epoch 14/24\n",
            "----------\n",
            "train Loss: 0.3407 Acc: 0.8566\n",
            "val Loss: 0.1917 Acc: 0.9542\n",
            "\n",
            "Epoch 15/24\n",
            "----------\n",
            "train Loss: 0.3320 Acc: 0.8443\n",
            "val Loss: 0.1839 Acc: 0.9542\n",
            "\n",
            "Epoch 16/24\n",
            "----------\n",
            "train Loss: 0.2739 Acc: 0.8975\n",
            "val Loss: 0.1774 Acc: 0.9477\n",
            "\n",
            "Epoch 17/24\n",
            "----------\n",
            "train Loss: 0.2557 Acc: 0.8893\n",
            "val Loss: 0.1817 Acc: 0.9608\n",
            "\n",
            "Epoch 18/24\n",
            "----------\n",
            "train Loss: 0.3757 Acc: 0.8402\n",
            "val Loss: 0.1866 Acc: 0.9608\n",
            "\n",
            "Epoch 19/24\n",
            "----------\n",
            "train Loss: 0.3985 Acc: 0.8074\n",
            "val Loss: 0.1770 Acc: 0.9542\n",
            "\n",
            "Epoch 20/24\n",
            "----------\n",
            "train Loss: 0.3930 Acc: 0.8238\n",
            "val Loss: 0.1767 Acc: 0.9477\n",
            "\n",
            "Epoch 21/24\n",
            "----------\n",
            "train Loss: 0.2846 Acc: 0.8811\n",
            "val Loss: 0.1833 Acc: 0.9608\n",
            "\n",
            "Epoch 22/24\n",
            "----------\n",
            "train Loss: 0.3528 Acc: 0.8566\n",
            "val Loss: 0.1871 Acc: 0.9542\n",
            "\n",
            "Epoch 23/24\n",
            "----------\n",
            "train Loss: 0.3580 Acc: 0.8402\n",
            "val Loss: 0.2091 Acc: 0.9412\n",
            "\n",
            "Epoch 24/24\n",
            "----------\n",
            "train Loss: 0.3255 Acc: 0.8525\n",
            "val Loss: 0.1924 Acc: 0.9542\n",
            "\n",
            "Training complete in 1m 50s\n",
            "Best val Acc: 0.960784\n"
          ]
        }
      ]
    }
  ]
}