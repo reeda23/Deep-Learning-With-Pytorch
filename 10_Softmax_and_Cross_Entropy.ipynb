{
  "nbformat": 4,
  "nbformat_minor": 0,
  "metadata": {
    "colab": {
      "name": "10_Softmax_and_Cross_Entropy.ipynb",
      "provenance": [],
      "collapsed_sections": [],
      "authorship_tag": "ABX9TyMcYbUPbCuiGd0XtCbUX81c",
      "include_colab_link": true
    },
    "kernelspec": {
      "name": "python3",
      "display_name": "Python 3"
    },
    "language_info": {
      "name": "python"
    }
  },
  "cells": [
    {
      "cell_type": "markdown",
      "metadata": {
        "id": "view-in-github",
        "colab_type": "text"
      },
      "source": [
        "<a href=\"https://colab.research.google.com/github/reeda23/Deep-Learning-With-Pytorch/blob/main/10_Softmax_and_Cross_Entropy.ipynb\" target=\"_parent\"><img src=\"https://colab.research.google.com/assets/colab-badge.svg\" alt=\"Open In Colab\"/></a>"
      ]
    },
    {
      "cell_type": "markdown",
      "source": [
        "# Softmax\n",
        "\n",
        "Formula of Softmax <br>\n",
        "\n",
        "\\begin{align}\n",
        "          {S(y_i)} =  \\frac {e^{y_i}}{∑ e^{y_i}}\n",
        "\\end{align}\n",
        "\n",
        "\n",
        "Softmax applies the exponential function to each element, and normalizes by dividing the sum of all these exponentials. <br>\n",
        "It squashes the output to be between 0 and 1 = probabiltiy<br>\n",
        "sum of all the proababilites is 1 <br>\n",
        "\n"
      ],
      "metadata": {
        "id": "EOGMhQkGrusd"
      }
    },
    {
      "cell_type": "code",
      "execution_count": null,
      "metadata": {
        "id": "0wrT0dP9raeK"
      },
      "outputs": [],
      "source": [
        "# For example: \n",
        "        \n",
        "#         --> 2.0                   --> 0.65 \n",
        "#  Linear --> 1.0                   --> 0.25   --> CrossEntropy(y, y_hat)\n",
        "#         --> 0.1                   --> 0.1  \n",
        "        \n",
        "    #scores(logits)                  #probabilties\n",
        "                                     #sum = 1.0 "
      ]
    },
    {
      "cell_type": "code",
      "source": [
        "import torch\n",
        "import torch.nn as nn\n",
        "import numpy as np\n"
      ],
      "metadata": {
        "id": "j7WudbI3wyet"
      },
      "execution_count": 1,
      "outputs": []
    },
    {
      "cell_type": "code",
      "source": [
        "def softmax(x):\n",
        "    return np.exp(x) / np.sum(np.exp(x), axis=0)"
      ],
      "metadata": {
        "id": "NAt-lp3JxRx1"
      },
      "execution_count": 6,
      "outputs": []
    },
    {
      "cell_type": "markdown",
      "source": [
        "**Numpy**"
      ],
      "metadata": {
        "id": "O07FL5Ac1WJa"
      }
    },
    {
      "cell_type": "code",
      "source": [
        "x = np.array([2.0,1.0,0.1])\n",
        "#highest logit has the highest probability\n",
        "\n",
        "outputs = softmax(x)\n",
        "print(\"Softmax numpy:\", outputs)"
      ],
      "metadata": {
        "colab": {
          "base_uri": "https://localhost:8080/"
        },
        "id": "JFN2VUQbxcog",
        "outputId": "329e2e06-2257-450d-a4c5-14aec60cf5a6"
      },
      "execution_count": 7,
      "outputs": [
        {
          "output_type": "stream",
          "name": "stdout",
          "text": [
            "Softmax numpy: [0.65900114 0.24243297 0.09856589]\n"
          ]
        }
      ]
    },
    {
      "cell_type": "code",
      "source": [
        "x.shape"
      ],
      "metadata": {
        "colab": {
          "base_uri": "https://localhost:8080/"
        },
        "id": "M5QWtPnsxsBQ",
        "outputId": "cd267cf1-606a-41fe-db8d-de4ec32ce665"
      },
      "execution_count": 8,
      "outputs": [
        {
          "output_type": "execute_result",
          "data": {
            "text/plain": [
              "(3,)"
            ]
          },
          "metadata": {},
          "execution_count": 8
        }
      ]
    },
    {
      "cell_type": "markdown",
      "source": [
        "**Pytorch**"
      ],
      "metadata": {
        "id": "bQ9MW7kD1ZOD"
      }
    },
    {
      "cell_type": "code",
      "source": [
        "x = torch.tensor([2.0,1.0,0.1])\n",
        "outputs = torch.softmax(x, dim=0) #calculate values along first axis\n",
        "print(outputs)"
      ],
      "metadata": {
        "colab": {
          "base_uri": "https://localhost:8080/"
        },
        "id": "ng0hu3xpzJVE",
        "outputId": "983ee2a6-81fb-4c2c-d9a0-683531ff8b2e"
      },
      "execution_count": 9,
      "outputs": [
        {
          "output_type": "stream",
          "name": "stdout",
          "text": [
            "tensor([0.6590, 0.2424, 0.0986])\n"
          ]
        }
      ]
    },
    {
      "cell_type": "markdown",
      "source": [
        "# Cross-Entropy\n",
        "\n",
        "\\begin{align}\n",
        "          {D(\\hat{Y},Y)} =  -\\frac{1}{N} {∑ {Y_i}\\log(\\hat{Y}_i)}\n",
        "\\end{align}\n",
        "\n",
        "A lot of times softmax function is combined with the cross entropy loss so this measures the performance of our classification model whose output is a probabiltiy between 0 and 1 and it can be used in multi-class problems.<br>\n",
        "The loss increases as the predicted probabilty diverges from the actual label.<br>\n",
        "So the better our prediction, the lower is our loss. <br>\n"
      ],
      "metadata": {
        "id": "LHaF1DDQ2ZCN"
      }
    },
    {
      "cell_type": "code",
      "source": [
        "#For example\n",
        "#    #one hot encoded class labels\n",
        "#    Y     =  [1,0, 0]\n",
        "#                            -->D(Y_hat, Y)  = 0.35\n",
        "#    Y_hat =  [0.7,0.2,0.1]\n",
        "#    #probabilties (softmax)\n",
        "\n",
        "#    #one hot encoded class labels\n",
        "#    Y     =  [1,0, 0]\n",
        "#                            -->D(Y_hat, Y)  = 2.30\n",
        "#    Y_hat =  [0.1,0.3,0.6]\n",
        "#    #probabilties (softmax)\n",
        "\n"
      ],
      "metadata": {
        "id": "bWArC6lh1yVn"
      },
      "execution_count": null,
      "outputs": []
    },
    {
      "cell_type": "markdown",
      "source": [
        "**Numpy**"
      ],
      "metadata": {
        "id": "oY_PdhuN53Bs"
      }
    },
    {
      "cell_type": "code",
      "source": [
        "def cross_entropy(actual, predicted):\n",
        "    loss = -np.sum(actual * np.log(predicted))\n",
        "    return loss   #float(predicted.shape[0])\n",
        "\n",
        "#y must be one hot encoded\n",
        "#if class 0: [1 0 0]\n",
        "#if class 1: [0 1 0]\n",
        "#if class 2: [0 0 1]\n",
        "\n",
        "Y = np.array([1, 0, 0])\n",
        "\n",
        "#y_pred has proababilites\n",
        "Y_pred_good = np.array([0.7, 0.2, 0.1])\n",
        "Y_pred_bad = np.array([0.1,0.3,0.6])\n",
        "\n",
        "l1 = cross_entropy(Y, Y_pred_good)\n",
        "l2 = cross_entropy(Y, Y_pred_bad)\n",
        "\n",
        "print(f'Loss1 numpy: {l1:.4f}')\n",
        "print(f'Loss2 numpy: {l2:.4f}')\n",
        "\n"
      ],
      "metadata": {
        "colab": {
          "base_uri": "https://localhost:8080/"
        },
        "id": "S8j9eopR1wfX",
        "outputId": "a219bbf3-150d-49f2-9f87-6a357106400b"
      },
      "execution_count": 10,
      "outputs": [
        {
          "output_type": "stream",
          "name": "stdout",
          "text": [
            "Loss1 numpy: 0.3567\n",
            "Loss2 numpy: 2.3026\n"
          ]
        }
      ]
    },
    {
      "cell_type": "markdown",
      "source": [
        "**Pytorch**\n",
        "\n",
        "CrossEntropyLoss in PyTorch (applies Softmax) <br>\n",
        "nn.LogSoftmax + nn.NLLLoss <br>\n",
        "NLLLoss = negative log likelihood loss "
      ],
      "metadata": {
        "id": "f82HxSn57wp4"
      }
    },
    {
      "cell_type": "code",
      "source": [
        "#as softmax layer is already applied so we should not implement softmax in last layer\n",
        "#it is not necessary for Y to be one hot encoded we should only put correct class\n",
        "#Y_pred has raw scores(logits), no Softmax\n",
        " \n",
        "loss = nn.CrossEntropyLoss()\n",
        "\n",
        "Y = torch.tensor([0]) #only correct class label which is 0 no hot encoded value\n",
        "\n",
        "# nsamples x nclasses = 1 x3\n",
        "Y_pred_good = torch.tensor([[2.0, 1.0, 0.1]]) #this is array of arrays, these are raw values we didn't apply softmax\n",
        "\n",
        "Y_pred_bad = torch.tensor([[0.5,2.0,0.3]])\n",
        "\n",
        "l1 = loss(Y_pred_good, Y)\n",
        "l2 = loss(Y_pred_bad, Y)\n",
        "\n",
        "print(l1.item())\n",
        "print(l2.item())"
      ],
      "metadata": {
        "colab": {
          "base_uri": "https://localhost:8080/"
        },
        "id": "WnrxVOVK7zV-",
        "outputId": "62b419aa-998b-4c01-a80c-d4554ee292db"
      },
      "execution_count": 13,
      "outputs": [
        {
          "output_type": "stream",
          "name": "stdout",
          "text": [
            "0.4170299470424652\n",
            "1.840616226196289\n"
          ]
        }
      ]
    },
    {
      "cell_type": "code",
      "source": [
        "#to get predictions\n",
        "\n",
        "_, predictions1 = torch.max(Y_pred_good, 1)\n",
        "_, predictions2 = torch.max(Y_pred_bad, 1)\n",
        "\n",
        "print(predictions1)\n",
        "print(predictions2)\n",
        "\n",
        "print(f'Actual class:{Y.item()}, Y_pred1: {predictions1.item()}')\n",
        "print(f'Actual class:{Y.item()}, Y_pred2: {predictions2.item()}')"
      ],
      "metadata": {
        "colab": {
          "base_uri": "https://localhost:8080/"
        },
        "id": "1cBsrRzh_on6",
        "outputId": "3fd68428-07ed-4490-b70b-8b33128829a1"
      },
      "execution_count": 20,
      "outputs": [
        {
          "output_type": "stream",
          "name": "stdout",
          "text": [
            "tensor([0])\n",
            "tensor([1])\n",
            "Actual class:0, Y_pred1: 0\n",
            "Actual class:0, Y_pred2: 1\n"
          ]
        }
      ]
    },
    {
      "cell_type": "code",
      "source": [
        "#allows batch loss for multiple samples\n",
        "\n",
        "#samples\n",
        "\n",
        "Y= torch.tensor([2, 0, 1])\n",
        "\n",
        "\n",
        "# nsamples x nclass = 3 x 3 \n",
        "Y_pred_good = torch.tensor([[0.1, 1.0, 2.1],[2.0, 1.0, 0.1], [0.1, 3.0, 0.1]])\n",
        "Y_pred_bad = torch.tensor([[2.1,1.0, 0.1],[0.1, 1.0, 2.1], [0.1,3.0,0.1]])\n",
        "\n",
        "\n",
        "l1 = loss(Y_pred_good, Y)\n",
        "l2 = loss(Y_pred_bad, Y)\n",
        "\n",
        "print(l1.item())\n",
        "print(l2.item())\n",
        "\n",
        "_, predictions1 = torch.max(Y_pred_good, 1)\n",
        "_, predictions2 = torch.max(Y_pred_bad, 1)\n",
        "\n",
        "print(predictions1)\n",
        "print(predictions2)\n",
        "\n",
        "print(f'Actual class:{Y}, Y_pred1: {predictions1}')\n",
        "print(f'Actual class:{Y}, Y_pred2: {predictions2}')"
      ],
      "metadata": {
        "colab": {
          "base_uri": "https://localhost:8080/"
        },
        "id": "F-mOS2FaAVTH",
        "outputId": "ff27246e-03b9-4b4c-a9e3-f982b41f7645"
      },
      "execution_count": 25,
      "outputs": [
        {
          "output_type": "stream",
          "name": "stdout",
          "text": [
            "0.3018244206905365\n",
            "1.6241613626480103\n",
            "tensor([2, 0, 1])\n",
            "tensor([0, 2, 1])\n",
            "Actual class:tensor([2, 0, 1]), Y_pred1: tensor([2, 0, 1])\n",
            "Actual class:tensor([2, 0, 1]), Y_pred2: tensor([0, 2, 1])\n"
          ]
        }
      ]
    },
    {
      "cell_type": "markdown",
      "source": [
        "**Binary classification**"
      ],
      "metadata": {
        "id": "ViZhAVjeE1Yj"
      }
    },
    {
      "cell_type": "code",
      "source": [
        "class NeuralNet1(nn.Module):\n",
        "    def __init__(self, input_size, hidden_size):\n",
        "        super(NeuralNet1, self).__init__()\n",
        "        self.linear1 = nn.Linear(input_size, hidden_size)\n",
        "        self.relu = nn.ReLU()\n",
        "        self.linear2 = nn.Linear(hidden_size, 1)\n",
        "\n",
        "\n",
        "    def forward(self, x):\n",
        "        out = self.linear(x)\n",
        "        out = self.relu(out) \n",
        "        out = self.linear2(out)\n",
        "        #sigmoid at the end\n",
        "        y_pred = torch.sigmoid(out)\n",
        "        return y_pred\n",
        "\n",
        "model = NeuralNet1(input_size= 28*28, hidden_size = 5)\n",
        "criterion = nn.BCELoss()"
      ],
      "metadata": {
        "id": "FZ_WLvdoE4-D"
      },
      "execution_count": 27,
      "outputs": []
    },
    {
      "cell_type": "code",
      "source": [
        "# Multiclass problem\n",
        "class NeuralNet2(nn.Module):\n",
        "    def __init__(self, input_size, hidden_size, num_classes):\n",
        "        super(NeuralNet2, self).__init__()\n",
        "        self.linear1 = nn.Linear(input_size, hidden_size) \n",
        "        self.relu = nn.ReLU()\n",
        "        self.linear2 = nn.Linear(hidden_size, num_classes)  \n",
        "    \n",
        "    def forward(self, x):\n",
        "        out = self.linear1(x)\n",
        "        out = self.relu(out)\n",
        "        out = self.linear2(out)\n",
        "        # no softmax at the end\n",
        "        return out\n",
        "\n",
        "model = NeuralNet2(input_size=28*28, hidden_size=5, num_classes=3)\n",
        "criterion = nn.CrossEntropyLoss()  # (applies Softmax)"
      ],
      "metadata": {
        "id": "utvkC_TkHBUA"
      },
      "execution_count": 28,
      "outputs": []
    }
  ]
}