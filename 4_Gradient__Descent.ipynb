{
  "nbformat": 4,
  "nbformat_minor": 0,
  "metadata": {
    "colab": {
      "name": "4.Gradient _Descent.ipynb",
      "provenance": [],
      "authorship_tag": "ABX9TyOFMaATi8HqmGxg21bT4Q+p",
      "include_colab_link": true
    },
    "kernelspec": {
      "name": "python3",
      "display_name": "Python 3"
    },
    "language_info": {
      "name": "python"
    }
  },
  "cells": [
    {
      "cell_type": "markdown",
      "metadata": {
        "id": "view-in-github",
        "colab_type": "text"
      },
      "source": [
        "<a href=\"https://colab.research.google.com/github/reeda23/Deep-Learning-With-Pytorch/blob/main/4_Gradient__Descent.ipynb\" target=\"_parent\"><img src=\"https://colab.research.google.com/assets/colab-badge.svg\" alt=\"Open In Colab\"/></a>"
      ]
    },
    {
      "cell_type": "code",
      "execution_count": 30,
      "metadata": {
        "id": "SLv6r2vQ7Ahy"
      },
      "outputs": [],
      "source": [
        "import numpy as np"
      ]
    },
    {
      "cell_type": "markdown",
      "source": [
        "Linear Regression\n",
        "\n",
        "So we use a function which just does a linear combination of some weights and our inputs and we don't care about bias here. For example\n",
        "\n",
        "f = w * x <br>\n",
        "\n",
        "e.g\n",
        "f = 2 * x"
      ],
      "metadata": {
        "id": "mODx_sT_E63t"
      }
    },
    {
      "cell_type": "code",
      "source": [
        "#some training samples\n",
        "\n",
        "x = np.array([1,2,3,4], dtype = np.float32)\n",
        "\n",
        "#since our formula is 2x so have to multiply x with 2\n",
        "y = np.array([2,4,6,8], dtype = np.float32)\n",
        "\n",
        "#in begining \n",
        "w = 0.0\n",
        "\n",
        "# model prediction\n",
        "def forward(x):\n",
        "    return w * x\n",
        "\n",
        "# loss = MSE (in case of linear regression)\n",
        "# MSE = 1/N * (w*x - y)**2\n",
        "def loss(y, y_predicted):\n",
        "    return((y_predicted - y)**2).mean()\n",
        "\n",
        "# gradient\n",
        "\n",
        "# dJ/dw = 1/N *2x (w*x - y)\n",
        "\n",
        "def gradient(x,y,y_predicted):\n",
        "    #return (np.dot(2*x, y_predicted -y)/len(x))\n",
        "    return np.dot(2*x, y_predicted -y).mean()\n",
        "\n",
        "print(f'Predictions before training: f(5) = {forward(5):.3f}')\n",
        "\n",
        "#Training\n",
        "\n",
        "learning_rate = 0.01\n",
        "n_iters =3\n",
        "\n",
        "for epoch in range(n_iters):\n",
        "    #predictions = forward pass\n",
        "    y_pred = forward(x)\n",
        "\n",
        "    #loss calculation\n",
        "    l = loss(y, y_pred)\n",
        "\n",
        "    #local gradient calculations\n",
        "    dw = gradient(x,y,y_pred)\n",
        "\n",
        "    #update weights\n",
        "    w -=learning_rate * dw    #w = w - learning_rate * dw\n",
        "\n",
        "    if epoch % 1 == 0:\n",
        "        print(f'epoch {epoch+1}: y_pred = {y_pred}, loss ={l:.8f}, dw= {dw}, w = {w:.3f}')\n",
        "\n",
        "print(f'Predictions after training: f(5) = {forward(5):.3f}')\n"
      ],
      "metadata": {
        "colab": {
          "base_uri": "https://localhost:8080/"
        },
        "id": "oKYy6iOxEyOc",
        "outputId": "b017f748-129e-4666-8b9d-446c37afc200"
      },
      "execution_count": 32,
      "outputs": [
        {
          "output_type": "stream",
          "name": "stdout",
          "text": [
            "Predictions before training: f(5) = 0.000\n",
            "epoch 1: y_pred = [0. 0. 0. 0.], loss =30.00000000, dw= -120.0, w = 1.200\n",
            "epoch 2: y_pred = [1.2       2.4       3.6000001 4.8      ], loss =4.79999924, dw= -47.999996185302734, w = 1.680\n",
            "epoch 3: y_pred = [1.68 3.36 5.04 6.72], loss =0.76800019, dw= -19.200002670288086, w = 1.872\n",
            "Predictions after training: f(5) = 9.360\n"
          ]
        }
      ]
    }
  ]
}