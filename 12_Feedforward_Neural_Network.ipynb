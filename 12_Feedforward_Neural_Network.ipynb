{
  "nbformat": 4,
  "nbformat_minor": 0,
  "metadata": {
    "colab": {
      "name": "12_Feedforward_Neural_Network.ipynb",
      "provenance": [],
      "collapsed_sections": [],
      "mount_file_id": "1A74ZxIV3ldoaoZ3Xb44NJFj3Z7euefFU",
      "authorship_tag": "ABX9TyMq7GSEgMXMe7e32RzoNePd",
      "include_colab_link": true
    },
    "kernelspec": {
      "name": "python3",
      "display_name": "Python 3"
    },
    "language_info": {
      "name": "python"
    }
  },
  "cells": [
    {
      "cell_type": "markdown",
      "metadata": {
        "id": "view-in-github",
        "colab_type": "text"
      },
      "source": [
        "<a href=\"https://colab.research.google.com/github/reeda23/Deep-Learning-With-Pytorch/blob/main/12_Feedforward_Neural_Network.ipynb\" target=\"_parent\"><img src=\"https://colab.research.google.com/assets/colab-badge.svg\" alt=\"Open In Colab\"/></a>"
      ]
    },
    {
      "cell_type": "markdown",
      "source": [
        "# Feed-Forward Neural Network\n",
        "\n",
        "MNIST<br>\n",
        "DataLoader, Transformation <br>\n",
        "Multilayer Neural Net, activation function <br>\n",
        "Loss and Optimizer <br>\n",
        "Training Loop (batch training) <br>\n",
        "Model evaluation <br>\n",
        "GPU support <br>"
      ],
      "metadata": {
        "id": "G4Pw1p2ipQvg"
      }
    },
    {
      "cell_type": "markdown",
      "source": [
        "# Import Libraries"
      ],
      "metadata": {
        "id": "C7fgrulXpzvs"
      }
    },
    {
      "cell_type": "code",
      "execution_count": 1,
      "metadata": {
        "id": "4OtRN9Ayo6QY"
      },
      "outputs": [],
      "source": [
        "import torch\n",
        "import torch.nn as nn\n",
        "import torchvision\n",
        "import torchvision.transforms as transforms\n",
        "import matplotlib.pyplot as plt\n",
        "import numpy as np"
      ]
    },
    {
      "cell_type": "code",
      "source": [
        "#device configuration \n",
        "device = torch.device('cuda' if torch.cuda.is_available() else 'cpu')"
      ],
      "metadata": {
        "id": "pq8DqBknqLqV"
      },
      "execution_count": 2,
      "outputs": []
    },
    {
      "cell_type": "code",
      "source": [
        "device"
      ],
      "metadata": {
        "colab": {
          "base_uri": "https://localhost:8080/"
        },
        "id": "-Kgcf4yEqml6",
        "outputId": "65a5c7be-d550-4b06-d085-cd200c0e983b"
      },
      "execution_count": 3,
      "outputs": [
        {
          "output_type": "execute_result",
          "data": {
            "text/plain": [
              "device(type='cpu')"
            ]
          },
          "metadata": {},
          "execution_count": 3
        }
      ]
    },
    {
      "cell_type": "markdown",
      "source": [
        "**Hyper Parameters**"
      ],
      "metadata": {
        "id": "YsxxfNyNr0O-"
      }
    },
    {
      "cell_type": "code",
      "source": [
        "#hyper parameters\n",
        "\n",
        "input_size = 784 #flatten 28x28  to be 1D tensor\n",
        "hidden_size = 100\n",
        "num_classes = 10  #digits are from 0 to 9\n",
        "num_epochs = 2 \n",
        "batch_size = 100\n",
        "learning_rate = 0.001\n",
        "\n"
      ],
      "metadata": {
        "id": "bpr_Nx9mqnKk"
      },
      "execution_count": 4,
      "outputs": []
    },
    {
      "cell_type": "markdown",
      "source": [
        "**Dataset**"
      ],
      "metadata": {
        "id": "-yUrrsmBr7MM"
      }
    },
    {
      "cell_type": "code",
      "source": [
        "from numpy import False_\n",
        "# MNIST\n",
        "\n",
        "train_dataset = torchvision.datasets.MNIST(root='./data',\n",
        "                                           train=True,\n",
        "                                           transform=transforms.ToTensor(),\n",
        "                                           download= True)\n",
        "\n",
        "test_dataset = torchvision.datasets.MNIST(root='./data',\n",
        "                                           train=False,\n",
        "                                           transform=transforms.ToTensor())"
      ],
      "metadata": {
        "id": "zgJGiI-tr5x_"
      },
      "execution_count": 5,
      "outputs": []
    },
    {
      "cell_type": "markdown",
      "source": [
        "**DataLoader**"
      ],
      "metadata": {
        "id": "vXZ8ZkAitgrq"
      }
    },
    {
      "cell_type": "code",
      "source": [
        "train_loader = torch.utils.data.DataLoader(dataset = train_dataset,\n",
        "                                           batch_size=batch_size,\n",
        "                                           shuffle=True)\n",
        "\n",
        "test_loader = torch.utils.data.DataLoader(dataset = test_dataset,\n",
        "                                           batch_size=batch_size,\n",
        "                                           shuffle=False)\n"
      ],
      "metadata": {
        "id": "cB6_hmoftXK3"
      },
      "execution_count": 6,
      "outputs": []
    },
    {
      "cell_type": "markdown",
      "source": [
        "**Examples**"
      ],
      "metadata": {
        "id": "3JEnWx-7uJzF"
      }
    },
    {
      "cell_type": "code",
      "source": [
        "examples = iter(train_loader) "
      ],
      "metadata": {
        "id": "rryeZuIWuMK0"
      },
      "execution_count": 7,
      "outputs": []
    },
    {
      "cell_type": "code",
      "source": [
        "samples, labels = examples.next()"
      ],
      "metadata": {
        "id": "IFigkoXJw0WB"
      },
      "execution_count": 8,
      "outputs": []
    },
    {
      "cell_type": "code",
      "source": [
        "print(samples.shape, labels.shape)\n",
        "\n",
        "#samples\n",
        "\n",
        "#100 because batch size is 100\n",
        "#1 because we have 1 channel we don't have any color channels\n",
        "#28, 28 actual image\n",
        "\n",
        "#label\n",
        "#for each class label we have one value\n"
      ],
      "metadata": {
        "colab": {
          "base_uri": "https://localhost:8080/"
        },
        "id": "6Q1tqHyyxHIx",
        "outputId": "3a13fdef-5d39-410e-fbba-21b5728592f6"
      },
      "execution_count": 9,
      "outputs": [
        {
          "output_type": "stream",
          "name": "stdout",
          "text": [
            "torch.Size([100, 1, 28, 28]) torch.Size([100])\n"
          ]
        }
      ]
    },
    {
      "cell_type": "markdown",
      "source": [
        "**Plot**"
      ],
      "metadata": {
        "id": "yNXuiyQIyD9y"
      }
    },
    {
      "cell_type": "code",
      "source": [
        "for i in range(6):\n",
        "    ax = plt.subplot(2,3, i+1, xticks=[], yticks=[])\n",
        "    plt.imshow(samples[i][0], cmap='gray') #0 because we want to access first channel\n",
        "    ax.set_title(str(labels[i].item()))\n",
        "plt.show()    "
      ],
      "metadata": {
        "colab": {
          "base_uri": "https://localhost:8080/",
          "height": 267
        },
        "id": "snGf7Ed3xObz",
        "outputId": "9708e71b-08c0-4a34-cefd-5c39d55c6a52"
      },
      "execution_count": 10,
      "outputs": [
        {
          "output_type": "display_data",
          "data": {
            "text/plain": [
              "<Figure size 432x288 with 6 Axes>"
            ],
            "image/png": "[encoded data removed]"
          },
          "metadata": {}
        }
      ]
    },
    {
      "cell_type": "markdown",
      "source": [
        "**Neural Network** <br>\n",
        "\n",
        "**Model**"
      ],
      "metadata": {
        "id": "_92K_xuozBgd"
      }
    },
    {
      "cell_type": "code",
      "source": [
        "# Fully connected neural network with one hidden layer\n",
        "class NeuralNet(nn.Module):\n",
        "    def __init__(self, input_size, hidden_size, num_classes):\n",
        "        super(NeuralNet, self).__init__()\n",
        "        self.input_size = input_size\n",
        "        self.l1 = nn.Linear(input_size, hidden_size)\n",
        "        self.relu = nn.ReLU()\n",
        "        self.l2 = nn.Linear(hidden_size, num_classes)\n",
        "    \n",
        "    def forward(self, x):\n",
        "        out = self.l1(x)\n",
        "        out = self.relu(out)\n",
        "        out = self.l2(out)\n",
        "        #we don't apply softmax here because binary cross entropy loss will does that for us.\n",
        "        return out\n",
        "\n",
        "model = NeuralNet(input_size, hidden_size, num_classes).to(device)\n"
      ],
      "metadata": {
        "id": "gDNHOabYzF14"
      },
      "execution_count": 11,
      "outputs": []
    },
    {
      "cell_type": "markdown",
      "source": [
        "**Loss and Optimizer**"
      ],
      "metadata": {
        "id": "RrRAQkbU3iHW"
      }
    },
    {
      "cell_type": "code",
      "source": [
        "#loss and optimizer \n",
        "criterion = nn.CrossEntropyLoss()\n",
        "optimizer = torch.optim.Adam(model.parameters(),lr = learning_rate)"
      ],
      "metadata": {
        "id": "_iLMrvVm30nv"
      },
      "execution_count": 12,
      "outputs": []
    },
    {
      "cell_type": "code",
      "source": [
        "#training loop\n",
        "\n",
        "n_total_steps = len(train_loader)\n",
        "for epoch in range(num_epochs):\n",
        "    #loop over all batches\n",
        "    for i, (images, labels) in enumerate(train_loader): #enumerate will give actual index and data(in tuple form)\n",
        "        #100, 1, 28, 28 \n",
        "        #100, 784\n",
        "        images = images.reshape(-1, 28*28).to(device)\n",
        "        labels = labels.to(device)\n",
        "\n",
        "\n",
        "        #forward\n",
        "        predicted_labels = model(images)\n",
        "        loss = criterion(predicted_labels, labels)\n",
        "\n",
        "\n",
        "        #backward\n",
        "        optimizer.zero_grad()\n",
        "        loss.backward()\n",
        "        optimizer.step()\n",
        "\n",
        "        if (i+1) % 100 == 0:\n",
        "            print(f'epoch: {epoch+1}, step: {i+1}/{n_total_steps}, loss: {loss.item():.4f}')"
      ],
      "metadata": {
        "colab": {
          "base_uri": "https://localhost:8080/"
        },
        "id": "dwBuWdtN5Y0i",
        "outputId": "c1ca42bf-5293-4978-cc38-29c8a0acb0ed"
      },
      "execution_count": 13,
      "outputs": [
        {
          "output_type": "stream",
          "name": "stdout",
          "text": [
            "epoch: 1, step: 100/600, loss: 0.5012\n",
            "epoch: 1, step: 200/600, loss: 0.3149\n",
            "epoch: 1, step: 300/600, loss: 0.3646\n",
            "epoch: 1, step: 400/600, loss: 0.2233\n",
            "epoch: 1, step: 500/600, loss: 0.4182\n",
            "epoch: 1, step: 600/600, loss: 0.4205\n",
            "epoch: 2, step: 100/600, loss: 0.3285\n",
            "epoch: 2, step: 200/600, loss: 0.1109\n",
            "epoch: 2, step: 300/600, loss: 0.1438\n",
            "epoch: 2, step: 400/600, loss: 0.0907\n",
            "epoch: 2, step: 500/600, loss: 0.2098\n",
            "epoch: 2, step: 600/600, loss: 0.0729\n"
          ]
        }
      ]
    },
    {
      "cell_type": "markdown",
      "source": [
        "# Testing"
      ],
      "metadata": {
        "id": "Ix7WutuE_hX9"
      }
    },
    {
      "cell_type": "code",
      "source": [
        "# In test phase, we don't need to compute gradients (for memory efficiency)\n",
        "with torch.no_grad():\n",
        "    n_correct = 0\n",
        "    n_samples = 0\n",
        "\n",
        "    #loop over all the batches in test images\n",
        "    for images, labels in test_loader:\n",
        "        images = images.reshape(-1, 28*28).to(device)\n",
        "        labels = labels.to(device)\n",
        "        outputs = model(images)\n",
        "\n",
        "        #max func will return value and index we are interested in index which is class label\n",
        "        _, predictions = torch.max(outputs, 1)\n",
        "        n_samples += labels.shape[0] #it will give no of samples in the current batch\n",
        "        n_correct += (predictions == labels).sum().item()\n",
        "\n",
        "\n",
        "    #accuracy \n",
        "    acc = 100.0 * n_correct / n_samples\n",
        "    print(f'Accuracy = {acc}')"
      ],
      "metadata": {
        "colab": {
          "base_uri": "https://localhost:8080/"
        },
        "id": "dioL50V0_kEZ",
        "outputId": "4da201cb-b298-4cf9-a99e-6e248995e5da"
      },
      "execution_count": 14,
      "outputs": [
        {
          "output_type": "stream",
          "name": "stdout",
          "text": [
            "Accuracy = 95.3\n"
          ]
        }
      ]
    },
    {
      "cell_type": "markdown",
      "source": [
        "# Visualize Sample Test Results"
      ],
      "metadata": {
        "id": "mMQFgVK5Kku_"
      }
    },
    {
      "cell_type": "code",
      "source": [
        "# obtain one batch of test images\n",
        "dataiter = iter(test_loader)\n",
        "images, labels = dataiter.next()\n",
        "\n",
        "with torch.no_grad():\n",
        "    #loop over all the batches in test images\n",
        "    for images, labels in test_loader:\n",
        "        imgs = images\n",
        "        images = images.reshape(-1, 28*28).to(device)\n",
        "        labels = labels.to(device)\n",
        "        outputs = model(images)\n",
        "\n",
        "        # convert output probabilities to predicted class\n",
        "        _, preds = torch.max(outputs, 1)\n",
        "        # prep images for display\n",
        "        images = images.numpy() \n",
        "\n",
        "\n",
        "# plot the images in the batch, along with predicted and true labels\n",
        "for i in range(6):\n",
        "    ax = plt.subplot(2,3, i+1, xticks=[], yticks=[])\n",
        "    plt.imshow(imgs[i][0], cmap='gray')\n",
        "    ax.set_title(\"GT:{} Pred({})\".format(str(preds[i].item()), str(labels[i].item())),\n",
        "                 color=(\"green\" if preds[i]==labels[i] else \"red\"))\n",
        "plt.show()"
      ],
      "metadata": {
        "id": "MtoLKzCKBP4T",
        "colab": {
          "base_uri": "https://localhost:8080/",
          "height": 267
        },
        "outputId": "7043cce1-291d-4a63-ea5e-399aab87a44e"
      },
      "execution_count": 26,
      "outputs": [
        {
          "output_type": "display_data",
          "data": {
            "text/plain": [
              "<Figure size 432x288 with 6 Axes>"
            ],
            "image/png": "[encoded data removed]"
          },
          "metadata": {}
        }
      ]
    },
    {
      "cell_type": "code",
      "source": [
        ""
      ],
      "metadata": {
        "id": "WoDypeQNTC68"
      },
      "execution_count": null,
      "outputs": []
    }
  ]
}