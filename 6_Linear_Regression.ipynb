{
  "nbformat": 4,
  "nbformat_minor": 0,
  "metadata": {
    "colab": {
      "name": "6.Linear_Regression.ipynb",
      "provenance": [],
      "authorship_tag": "ABX9TyNiPypr4zcDYxlH/K0XGi1m",
      "include_colab_link": true
    },
    "kernelspec": {
      "name": "python3",
      "display_name": "Python 3"
    },
    "language_info": {
      "name": "python"
    }
  },
  "cells": [
    {
      "cell_type": "markdown",
      "metadata": {
        "id": "view-in-github",
        "colab_type": "text"
      },
      "source": [
        "<a href=\"https://colab.research.google.com/github/reeda23/Deep-Learning-With-Pytorch/blob/main/6.Linear_Regression.ipynb\" target=\"_parent\"><img src=\"https://colab.research.google.com/assets/colab-badge.svg\" alt=\"Open In Colab\"/></a>"
      ]
    },
    {
      "cell_type": "markdown",
      "source": [
        "# Linear Regression"
      ],
      "metadata": {
        "id": "qoIpFgiB9rFJ"
      }
    },
    {
      "cell_type": "markdown",
      "source": [
        "**Training Pipeline** <br>\n",
        "1) Design model (input, output size, forward pass)<br>\n",
        "2) Construct loss and optimizer <br>\n",
        "3) Training loop <br>\n",
        "\n",
        "\n",
        "> -forward pass: compute prediction and loss <br>\n",
        "  -backward pass: compute gradients <br>\n",
        "  -update weights <br>\n",
        "\n",
        "\n"
      ],
      "metadata": {
        "id": "7rBWI4fP85tg"
      }
    },
    {
      "cell_type": "code",
      "execution_count": 1,
      "metadata": {
        "id": "RZnpiPU28u3w"
      },
      "outputs": [],
      "source": [
        "import torch\n",
        "import torch.nn as nn\n",
        "import numpy as np\n",
        "from sklearn import datasets\n",
        "import matplotlib.pyplot as plt"
      ]
    },
    {
      "cell_type": "code",
      "source": [
        "# step 0 is preparing data\n",
        "\n",
        "X_numpy, y_numpy = datasets.make_regression(n_samples=100, n_features=1, noise=20, random_state=1)\n",
        "\n",
        "X = torch.from_numpy(X_numpy.astype(np.float32))\n",
        "y = torch.from_numpy(y_numpy.astype(np.float32))\n",
        "\n",
        "y = y.view(y.shape[0], 1)\n",
        "\n",
        "n_samples, n_features = X.shape"
      ],
      "metadata": {
        "id": "rlj5YZhL-dVU"
      },
      "execution_count": 2,
      "outputs": []
    },
    {
      "cell_type": "markdown",
      "source": [
        "3 step process <br>\n",
        "\n",
        "1) define model <br>\n",
        "2) define loss and optimizer <br>\n",
        "3) training loop"
      ],
      "metadata": {
        "id": "jKODnIKo-Da3"
      }
    },
    {
      "cell_type": "code",
      "source": [
        "#1. model \n",
        "input_size = n_features\n",
        "output_size = 1\n",
        "\n",
        "model = nn.Linear(input_size, output_size)\n"
      ],
      "metadata": {
        "id": "Ysv-58DmALM8"
      },
      "execution_count": 3,
      "outputs": []
    },
    {
      "cell_type": "code",
      "source": [
        "#2. loss and optimizer\n",
        "learning_rate = 0.01\n",
        "criterion = nn.MSELoss()\n",
        "optimizer = torch.optim.SGD(model.parameters(), lr=learning_rate)"
      ],
      "metadata": {
        "id": "EPN2v010BI77"
      },
      "execution_count": 4,
      "outputs": []
    },
    {
      "cell_type": "code",
      "source": [
        "#3. training loop\n",
        "num_epochs = 100\n",
        "for epoch in range(num_epochs):\n",
        "    #forward pass and loss\n",
        "    y_predicted = model(X)\n",
        "    loss = criterion(y_predicted, y)\n",
        "\n",
        "    #backward pass\n",
        "    loss.backward()\n",
        "\n",
        "    #update\n",
        "    optimizer.step()\n",
        "    \n",
        "    optimizer.zero_grad()\n",
        "\n",
        "    if epoch % 1 == 0:\n",
        "        print(f'epoch: {epoch+1}, loss = {loss.item():.4f}')"
      ],
      "metadata": {
        "colab": {
          "base_uri": "https://localhost:8080/"
        },
        "id": "s2U1YJZcBK4r",
        "outputId": "0e7a5522-a02b-49a7-b387-f94ba4cac351"
      },
      "execution_count": 5,
      "outputs": [
        {
          "output_type": "stream",
          "name": "stdout",
          "text": [
            "epoch: 1, loss = 5685.6582\n",
            "epoch: 2, loss = 5515.8462\n",
            "epoch: 3, loss = 5351.4712\n",
            "epoch: 4, loss = 5192.3594\n",
            "epoch: 5, loss = 5038.3374\n",
            "epoch: 6, loss = 4889.2427\n",
            "epoch: 7, loss = 4744.9146\n",
            "epoch: 8, loss = 4605.2002\n",
            "epoch: 9, loss = 4469.9487\n",
            "epoch: 10, loss = 4339.0171\n",
            "epoch: 11, loss = 4212.2666\n",
            "epoch: 12, loss = 4089.5610\n",
            "epoch: 13, loss = 3970.7705\n",
            "epoch: 14, loss = 3855.7686\n",
            "epoch: 15, loss = 3744.4329\n",
            "epoch: 16, loss = 3636.6462\n",
            "epoch: 17, loss = 3532.2935\n",
            "epoch: 18, loss = 3431.2642\n",
            "epoch: 19, loss = 3333.4521\n",
            "epoch: 20, loss = 3238.7529\n",
            "epoch: 21, loss = 3147.0669\n",
            "epoch: 22, loss = 3058.2969\n",
            "epoch: 23, loss = 2972.3501\n",
            "epoch: 24, loss = 2889.1350\n",
            "epoch: 25, loss = 2808.5637\n",
            "epoch: 26, loss = 2730.5525\n",
            "epoch: 27, loss = 2655.0188\n",
            "epoch: 28, loss = 2581.8826\n",
            "epoch: 29, loss = 2511.0674\n",
            "epoch: 30, loss = 2442.4990\n",
            "epoch: 31, loss = 2376.1052\n",
            "epoch: 32, loss = 2311.8167\n",
            "epoch: 33, loss = 2249.5657\n",
            "epoch: 34, loss = 2189.2876\n",
            "epoch: 35, loss = 2130.9189\n",
            "epoch: 36, loss = 2074.3987\n",
            "epoch: 37, loss = 2019.6674\n",
            "epoch: 38, loss = 1966.6687\n",
            "epoch: 39, loss = 1915.3470\n",
            "epoch: 40, loss = 1865.6483\n",
            "epoch: 41, loss = 1817.5212\n",
            "epoch: 42, loss = 1770.9158\n",
            "epoch: 43, loss = 1725.7833\n",
            "epoch: 44, loss = 1682.0767\n",
            "epoch: 45, loss = 1639.7505\n",
            "epoch: 46, loss = 1598.7612\n",
            "epoch: 47, loss = 1559.0657\n",
            "epoch: 48, loss = 1520.6229\n",
            "epoch: 49, loss = 1483.3934\n",
            "epoch: 50, loss = 1447.3380\n",
            "epoch: 51, loss = 1412.4198\n",
            "epoch: 52, loss = 1378.6023\n",
            "epoch: 53, loss = 1345.8508\n",
            "epoch: 54, loss = 1314.1311\n",
            "epoch: 55, loss = 1283.4109\n",
            "epoch: 56, loss = 1253.6581\n",
            "epoch: 57, loss = 1224.8422\n",
            "epoch: 58, loss = 1196.9331\n",
            "epoch: 59, loss = 1169.9025\n",
            "epoch: 60, loss = 1143.7223\n",
            "epoch: 61, loss = 1118.3656\n",
            "epoch: 62, loss = 1093.8062\n",
            "epoch: 63, loss = 1070.0190\n",
            "epoch: 64, loss = 1046.9796\n",
            "epoch: 65, loss = 1024.6642\n",
            "epoch: 66, loss = 1003.0497\n",
            "epoch: 67, loss = 982.1143\n",
            "epoch: 68, loss = 961.8360\n",
            "epoch: 69, loss = 942.1948\n",
            "epoch: 70, loss = 923.1699\n",
            "epoch: 71, loss = 904.7418\n",
            "epoch: 72, loss = 886.8922\n",
            "epoch: 73, loss = 869.6024\n",
            "epoch: 74, loss = 852.8547\n",
            "epoch: 75, loss = 836.6322\n",
            "epoch: 76, loss = 820.9182\n",
            "epoch: 77, loss = 805.6965\n",
            "epoch: 78, loss = 790.9519\n",
            "epoch: 79, loss = 776.6692\n",
            "epoch: 80, loss = 762.8337\n",
            "epoch: 81, loss = 749.4316\n",
            "epoch: 82, loss = 736.4489\n",
            "epoch: 83, loss = 723.8727\n",
            "epoch: 84, loss = 711.6898\n",
            "epoch: 85, loss = 699.8884\n",
            "epoch: 86, loss = 688.4560\n",
            "epoch: 87, loss = 677.3811\n",
            "epoch: 88, loss = 666.6526\n",
            "epoch: 89, loss = 656.2595\n",
            "epoch: 90, loss = 646.1912\n",
            "epoch: 91, loss = 636.4374\n",
            "epoch: 92, loss = 626.9885\n",
            "epoch: 93, loss = 617.8348\n",
            "epoch: 94, loss = 608.9670\n",
            "epoch: 95, loss = 600.3761\n",
            "epoch: 96, loss = 592.0533\n",
            "epoch: 97, loss = 583.9904\n",
            "epoch: 98, loss = 576.1791\n",
            "epoch: 99, loss = 568.6116\n",
            "epoch: 100, loss = 561.2800\n"
          ]
        }
      ]
    },
    {
      "cell_type": "code",
      "source": [
        "#plotting\n",
        "\n",
        "predicted = model(X).detach().numpy() #this is new tensor we don't want to include this info in computational graph\n",
        "plt.plot(X_numpy, y_numpy,'ro')\n",
        "plt.plot(X_numpy, predicted, 'bo')\n",
        "plt.show()\n"
      ],
      "metadata": {
        "colab": {
          "base_uri": "https://localhost:8080/",
          "height": 265
        },
        "id": "26pQqb2YCSVW",
        "outputId": "0d19918f-9b11-49c5-8a7c-9be22aa9cc3e"
      },
      "execution_count": 6,
      "outputs": [
        {
          "output_type": "display_data",
          "data": {
            "text/plain": [
              "<Figure size 432x288 with 1 Axes>"
            ],
            "image/png": "[encoded data removed]"
          },
          "metadata": {
            "needs_background": "light"
          }
        }
      ]
    }
  ]
}
