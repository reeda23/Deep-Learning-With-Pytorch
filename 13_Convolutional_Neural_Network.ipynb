{
  "nbformat": 4,
  "nbformat_minor": 0,
  "metadata": {
    "colab": {
      "name": "13_Convolutional_Neural_Network.ipynb",
      "provenance": [],
      "mount_file_id": "1AoYbIGIt_V1eRWUWeNniReyWsUImRHAo",
      "authorship_tag": "ABX9TyPZYbfYYULd6L0O8NvuH9Mc",
      "include_colab_link": true
    },
    "kernelspec": {
      "name": "python3",
      "display_name": "Python 3"
    },
    "language_info": {
      "name": "python"
    },
    "accelerator": "GPU"
  },
  "cells": [
    {
      "cell_type": "markdown",
      "metadata": {
        "id": "view-in-github",
        "colab_type": "text"
      },
      "source": [
        "<a href=\"https://colab.research.google.com/github/reeda23/Deep-Learning-With-Pytorch/blob/main/13_Convolutional_Neural_Network.ipynb\" target=\"_parent\"><img src=\"https://colab.research.google.com/assets/colab-badge.svg\" alt=\"Open In Colab\"/></a>"
      ]
    },
    {
      "cell_type": "markdown",
      "source": [
        "# Convolutional Neural Network\n"
      ],
      "metadata": {
        "id": "Y_mL8JsV8i4m"
      }
    },
    {
      "cell_type": "markdown",
      "source": [
        "# Importing Libraries"
      ],
      "metadata": {
        "id": "uwxvgGINMxT3"
      }
    },
    {
      "cell_type": "code",
      "source": [
        "import torch \n",
        "import torch.nn as nn\n",
        "import torch.nn.functional as F\n",
        "import torchvision\n",
        "import torchvision.transforms as transforms\n",
        "import matplotlib.pyplot as plt\n",
        "import numpy as np\n"
      ],
      "metadata": {
        "id": "WGxCk8HwMwgg"
      },
      "execution_count": 1,
      "outputs": []
    },
    {
      "cell_type": "code",
      "execution_count": 2,
      "metadata": {
        "id": "j3tIYrTC5pgJ"
      },
      "outputs": [],
      "source": [
        "# device configuration\n",
        "device = torch.device('cuda' if torch.cuda.is_available() else 'cpu')"
      ]
    },
    {
      "cell_type": "markdown",
      "source": [
        "# Hyper parameters"
      ],
      "metadata": {
        "id": "VYU2YT90Nmnd"
      }
    },
    {
      "cell_type": "code",
      "source": [
        "num_epochs = 5\n",
        "batch_size = 4\n",
        "learning_rate = 0.001\n"
      ],
      "metadata": {
        "id": "7Ckm5WNFNp9u"
      },
      "execution_count": 3,
      "outputs": []
    },
    {
      "cell_type": "markdown",
      "source": [
        "# Dataset"
      ],
      "metadata": {
        "id": "nr5lmqXbN14X"
      }
    },
    {
      "cell_type": "markdown",
      "source": [
        "**Normalization**"
      ],
      "metadata": {
        "id": "HeiwAgV1O___"
      }
    },
    {
      "cell_type": "code",
      "source": [
        "#dataset has PILImage images of range [0, 1]\n",
        "#to normalize them between range [-1,1] we transform them to tensors\n",
        "transform = transforms.Compose(\n",
        "                        [transforms.ToTensor(),\n",
        "                         transforms.Normalize((0.5,0.5,0.5), (0.5,0.5,0.5))])"
      ],
      "metadata": {
        "id": "w232meXtN1hN"
      },
      "execution_count": 4,
      "outputs": []
    },
    {
      "cell_type": "markdown",
      "source": [
        "**DataLoader**"
      ],
      "metadata": {
        "id": "3RIJ4T1fPDvQ"
      }
    },
    {
      "cell_type": "code",
      "source": [
        "# CIFAR10: 60000 32x32 color images in 10 classes, with 6000 images per class\n",
        "\n",
        "train_dataset = torchvision.datasets.CIFAR10(root = './data',\n",
        "                                             train = True,\n",
        "                                             download=True,\n",
        "                                             transform= transform)\n",
        "\n",
        "test_dataset = torchvision.datasets.CIFAR10(root = './data',\n",
        "                                             train = False,\n",
        "                                             download=True,\n",
        "                                             transform= transform)\n",
        "\n",
        "train_loader = torch.utils.data.DataLoader(train_dataset, \n",
        "                                           batch_size=batch_size,\n",
        "                                           shuffle=True)\n",
        "\n",
        "test_loader = torch.utils.data.DataLoader(test_dataset, \n",
        "                                           batch_size=batch_size,\n",
        "                                           shuffle=False)\n",
        "\n"
      ],
      "metadata": {
        "colab": {
          "base_uri": "https://localhost:8080/"
        },
        "id": "DOZblaAQOdU3",
        "outputId": "31357954-36fd-415f-d93d-d514305a3beb"
      },
      "execution_count": 5,
      "outputs": [
        {
          "output_type": "stream",
          "name": "stdout",
          "text": [
            "Files already downloaded and verified\n",
            "Files already downloaded and verified\n"
          ]
        }
      ]
    },
    {
      "cell_type": "markdown",
      "source": [
        "**Classes**"
      ],
      "metadata": {
        "id": "6ddLJfgIQiGk"
      }
    },
    {
      "cell_type": "code",
      "source": [
        "classes = ('plane','car','bird','cat','deer','dog','frog','horse','ship','truck')"
      ],
      "metadata": {
        "id": "najfFxYGQk3b"
      },
      "execution_count": 6,
      "outputs": []
    },
    {
      "cell_type": "markdown",
      "source": [
        "**Show Image**"
      ],
      "metadata": {
        "id": "T7mPOMKYQh8C"
      }
    },
    {
      "cell_type": "code",
      "source": [
        "def imshow(img):\n",
        "    img = img/ 2+ 0.5  #unnormalize\n",
        "    npimg = img.numpy()\n",
        "    plt.imshow(np.transpose(npimg, (1,2,0)))\n",
        "    plt.show()\n"
      ],
      "metadata": {
        "id": "RGgiKsY_Q7tS"
      },
      "execution_count": 10,
      "outputs": []
    },
    {
      "cell_type": "markdown",
      "source": [
        "**Random training images**"
      ],
      "metadata": {
        "id": "pKLdOk75RSCl"
      }
    },
    {
      "cell_type": "code",
      "source": [
        "#get some random training images\n",
        "dataiter = iter(train_loader)\n",
        "images, labels = dataiter.next()\n",
        "\n",
        "\n",
        "#show images\n",
        "imshow(torchvision.utils.make_grid(images))\n"
      ],
      "metadata": {
        "colab": {
          "base_uri": "https://localhost:8080/",
          "height": 138
        },
        "id": "3QC7NHHzRVpt",
        "outputId": "738143dc-f96c-4e5b-bcee-5bb0299d71bd"
      },
      "execution_count": 12,
      "outputs": [
        {
          "output_type": "display_data",
          "data": {
            "text/plain": [
              "<Figure size 432x288 with 1 Axes>"
            ],
            "image/png": "[encoded data removed]"
          },
          "metadata": {
            "needs_background": "light"
          }
        }
      ]
    },
    {
      "cell_type": "markdown",
      "source": [
        "# CNN Model"
      ],
      "metadata": {
        "id": "DOQMPuNtR1rO"
      }
    },
    {
      "cell_type": "code",
      "source": [
        "class ConvNet(nn.Module):\n",
        "    def __init__(self):\n",
        "        super(ConvNet, self).__init__()\n",
        "        self.conv1 = nn.Conv2d(3,6,5)\n",
        "        self.pool = nn.MaxPool2d(2,2)\n",
        "        self.conv2 = nn.Conv2d(6,16,5)\n",
        "        self.fc1 = nn.Linear(16*5*5, 120)\n",
        "        self.fc2 = nn.Linear(120,84)\n",
        "        self.fc3 = nn.Linear(84,10)\n",
        "\n",
        "    def forward(self, x):\n",
        "        #--> n,3,32,32\n",
        "        x = self.pool(F.relu(self.conv1(x))) #->n, 6, 14, 14\n",
        "        x = self.pool(F.relu(self.conv2(x))) #->n, 16, 5, 5\n",
        "        x = x.view(-1, 16 * 5 * 5)           #->n, 400\n",
        "        x = F.relu(self.fc1(x))              #->n, 120\n",
        "        x = F.relu(self.fc2(x))              #->n, 84\n",
        "        x = self.fc3(x)                      #->n, 10\n",
        "        return x\n",
        "\n",
        "model = ConvNet().to(device)"
      ],
      "metadata": {
        "id": "h7f5eDkFR1HU"
      },
      "execution_count": 13,
      "outputs": []
    },
    {
      "cell_type": "markdown",
      "source": [
        "# Loss and Optimizer"
      ],
      "metadata": {
        "id": "8qcw_jk6I6Rh"
      }
    },
    {
      "cell_type": "code",
      "source": [
        "criterion = nn.CrossEntropyLoss()\n",
        "optimizer = torch.optim.SGD(model.parameters(), lr = learning_rate)"
      ],
      "metadata": {
        "id": "pASnwTuJI_tw"
      },
      "execution_count": 14,
      "outputs": []
    },
    {
      "cell_type": "markdown",
      "source": [
        "# Training"
      ],
      "metadata": {
        "id": "JBHwuN5XJary"
      }
    },
    {
      "cell_type": "code",
      "source": [
        "n_total_steps = len(train_loader)\n",
        "for epoch in range(num_epochs):\n",
        "    for i, (images, labels) in enumerate(train_loader):\n",
        "        #original shape: [4, 3, 32, 32] = 4, 3, 1024\n",
        "        #input_layer = 3 input channels, 6 output channels, 5 kernal size\n",
        "        images = images.to(device)\n",
        "        labels = labels.to(device)\n",
        "\n",
        "        #Forward pass\n",
        "        outputs = model(images)\n",
        "        loss = criterion(outputs, labels)\n",
        "\n",
        "        #Backward and optimization\n",
        "        optimizer.zero_grad()\n",
        "        loss.backward()\n",
        "        optimizer.step()\n",
        "\n",
        "        if (i+1) % 2000 == 0:\n",
        "            print(f'Epoch [{epoch+1}/{num_epochs}], Step [{i+1}/{n_total_steps}], Loss: {loss.item():.4f}')\n",
        "        \n",
        "\n",
        "print(\"Finshed Training\")\n",
        "PATH = './cnn.pth'\n",
        "torch.save(model.state_dict(), PATH)"
      ],
      "metadata": {
        "colab": {
          "base_uri": "https://localhost:8080/"
        },
        "id": "hs70on75JU0y",
        "outputId": "04deb28a-4d0a-49b8-f460-ecaa2f902943"
      },
      "execution_count": 16,
      "outputs": [
        {
          "output_type": "stream",
          "name": "stdout",
          "text": [
            "Epoch [1/5], Step [2000/12500], Loss: 2.2991\n",
            "Epoch [1/5], Step [4000/12500], Loss: 3.0982\n",
            "Epoch [1/5], Step [6000/12500], Loss: 1.1714\n",
            "Epoch [1/5], Step [8000/12500], Loss: 0.8658\n",
            "Epoch [1/5], Step [10000/12500], Loss: 0.8166\n",
            "Epoch [1/5], Step [12000/12500], Loss: 2.7268\n",
            "Epoch [2/5], Step [2000/12500], Loss: 1.4849\n",
            "Epoch [2/5], Step [4000/12500], Loss: 1.1472\n",
            "Epoch [2/5], Step [6000/12500], Loss: 1.0029\n",
            "Epoch [2/5], Step [8000/12500], Loss: 1.1385\n",
            "Epoch [2/5], Step [10000/12500], Loss: 2.0491\n",
            "Epoch [2/5], Step [12000/12500], Loss: 1.5289\n",
            "Epoch [3/5], Step [2000/12500], Loss: 1.3464\n",
            "Epoch [3/5], Step [4000/12500], Loss: 2.2063\n",
            "Epoch [3/5], Step [6000/12500], Loss: 0.8687\n",
            "Epoch [3/5], Step [8000/12500], Loss: 0.9898\n",
            "Epoch [3/5], Step [10000/12500], Loss: 0.5328\n",
            "Epoch [3/5], Step [12000/12500], Loss: 1.2829\n",
            "Epoch [4/5], Step [2000/12500], Loss: 0.7242\n",
            "Epoch [4/5], Step [4000/12500], Loss: 1.3786\n",
            "Epoch [4/5], Step [6000/12500], Loss: 1.3242\n",
            "Epoch [4/5], Step [8000/12500], Loss: 1.5238\n",
            "Epoch [4/5], Step [10000/12500], Loss: 0.7485\n",
            "Epoch [4/5], Step [12000/12500], Loss: 1.4263\n",
            "Epoch [5/5], Step [2000/12500], Loss: 1.9709\n",
            "Epoch [5/5], Step [4000/12500], Loss: 1.9212\n",
            "Epoch [5/5], Step [6000/12500], Loss: 0.9543\n",
            "Epoch [5/5], Step [8000/12500], Loss: 0.8342\n",
            "Epoch [5/5], Step [10000/12500], Loss: 0.7873\n",
            "Epoch [5/5], Step [12000/12500], Loss: 0.5825\n",
            "Finshed Training\n"
          ]
        }
      ]
    },
    {
      "cell_type": "markdown",
      "source": [
        "# Testing"
      ],
      "metadata": {
        "id": "e28Y4C9qPtQe"
      }
    },
    {
      "cell_type": "code",
      "source": [
        "with torch.no_grad():\n",
        "    n_correct = 0 \n",
        "    n_samples = 0\n",
        "    n_class_correct = [0 for i in range(10)]\n",
        "    n_class_samples = [0 for i in range(10)]\n",
        "\n",
        "    for images, labels in test_loader:\n",
        "        images = images.to(device)\n",
        "        labels = labels.to(device)\n",
        "        outputs = model(images)\n",
        "\n",
        "        #max returns (value, index)\n",
        "        _, predicted = torch.max(outputs, 1)\n",
        "        n_samples += labels.size(0)\n",
        "        n_correct += (predicted == labels).sum().item()\n",
        "\n",
        "        for  i in range(batch_size):\n",
        "            label = labels[i]\n",
        "            pred = predicted[i]\n",
        "            if (label == pred):\n",
        "                n_class_correct[label] += 1\n",
        "            n_class_samples[label] +=1"
      ],
      "metadata": {
        "id": "8r5tmm1kPrvK"
      },
      "execution_count": 18,
      "outputs": []
    },
    {
      "cell_type": "markdown",
      "source": [
        "**Accuracy**"
      ],
      "metadata": {
        "id": "Zwjn5CbqSidP"
      }
    },
    {
      "cell_type": "code",
      "source": [
        "acc = 100.0 * n_correct  / n_samples\n",
        "print(f'Accuracy of the network: {acc} %')\n",
        "\n",
        "for i in range(10):\n",
        "    acc = 100.0 * n_class_correct[i] / n_class_samples[i]\n",
        "    print(f'Accuracy of {classes[i]}: {acc} %')"
      ],
      "metadata": {
        "colab": {
          "base_uri": "https://localhost:8080/"
        },
        "id": "8C9bVa5JSlTT",
        "outputId": "c0cfa7b0-7bb8-4f3b-801e-41e064001fca"
      },
      "execution_count": 19,
      "outputs": [
        {
          "output_type": "stream",
          "name": "stdout",
          "text": [
            "Accuracy of the network: 55.93 %\n",
            "Accuracy of plane: 62.6 %\n",
            "Accuracy of car: 66.4 %\n",
            "Accuracy of bird: 33.1 %\n",
            "Accuracy of cat: 26.2 %\n",
            "Accuracy of deer: 44.9 %\n",
            "Accuracy of dog: 59.5 %\n",
            "Accuracy of frog: 79.0 %\n",
            "Accuracy of horse: 58.3 %\n",
            "Accuracy of ship: 71.0 %\n",
            "Accuracy of truck: 58.3 %\n"
          ]
        }
      ]
    }
  ]
}