{
  "nbformat": 4,
  "nbformat_minor": 0,
  "metadata": {
    "colab": {
      "name": "2.Autograd.ipynb",
      "provenance": [],
      "collapsed_sections": [],
      "mount_file_id": "1K7hNB6KVi6gVC0eDfxXud-CAvilJM4nt",
      "authorship_tag": "ABX9TyMuNm4TQMpCLWV6jZLfdK0g",
      "include_colab_link": true
    },
    "kernelspec": {
      "name": "python3",
      "display_name": "Python 3"
    },
    "language_info": {
      "name": "python"
    }
  },
  "cells": [
    {
      "cell_type": "markdown",
      "metadata": {
        "id": "view-in-github",
        "colab_type": "text"
      },
      "source": [
        "<a href=\"https://colab.research.google.com/github/reeda23/Deep-Learning-With-Pytorch/blob/main/2_Autograd.ipynb\" target=\"_parent\"><img src=\"https://colab.research.google.com/assets/colab-badge.svg\" alt=\"Open In Colab\"/></a>"
      ]
    },
    {
      "cell_type": "markdown",
      "source": [
        "**Autograd package in Pytorch** \n",
        "\n",
        "We will see how can we calculate gradients with it. Gradients are essential for our model optimization so this is a very important concept that we should understand. Pytorch provides the autograd package which can do all the computations for us"
      ],
      "metadata": {
        "id": "h9Jo1VDaEZA3"
      }
    },
    {
      "cell_type": "code",
      "execution_count": 1,
      "metadata": {
        "id": "WJTLuJ9-1iU4"
      },
      "outputs": [],
      "source": [
        "import torch"
      ]
    },
    {
      "cell_type": "code",
      "source": [
        "x = torch.randn(3)\n",
        "print(x)"
      ],
      "metadata": {
        "id": "S3ZovcbC1vsD",
        "colab": {
          "base_uri": "https://localhost:8080/"
        },
        "outputId": "26da2f3a-53cd-4eef-e420-e0354b793458"
      },
      "execution_count": 2,
      "outputs": [
        {
          "output_type": "stream",
          "name": "stdout",
          "text": [
            "tensor([0.4771, 0.9271, 0.7413])\n"
          ]
        }
      ]
    },
    {
      "cell_type": "markdown",
      "source": [
        "Now let's say we want to calculate the gradient of some function with respect to x then we have to specify the agrument requires_grad = True"
      ],
      "metadata": {
        "id": "VsAYgeU3FPfr"
      }
    },
    {
      "cell_type": "code",
      "source": [
        "x = torch.randn(3, requires_grad=True)\n",
        "print(x) #see pytorch tracks that it requires gradient"
      ],
      "metadata": {
        "colab": {
          "base_uri": "https://localhost:8080/"
        },
        "id": "wculG-OBFOJo",
        "outputId": "b4cdd71c-fe80-470f-ac35-ac9f7c81e281"
      },
      "execution_count": 3,
      "outputs": [
        {
          "output_type": "stream",
          "name": "stdout",
          "text": [
            "tensor([ 0.1215, -0.2963, -0.5798], requires_grad=True)\n"
          ]
        }
      ]
    },
    {
      "cell_type": "code",
      "source": [
        "y = x + 2"
      ],
      "metadata": {
        "id": "LkN-dgJCGOXX"
      },
      "execution_count": 4,
      "outputs": []
    },
    {
      "cell_type": "markdown",
      "source": [
        "Whenever we do some operations with tensors pytorch will create computationalgraph for us. With this graph and technique called back propagation we can then calculate the gradients ![Computational_Graph.PNG](data:image/png;base64,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)"
      ],
      "metadata": {
        "id": "Rf28xgMoGB_P"
      }
    },
    {
      "cell_type": "code",
      "source": [
        "print(y)"
      ],
      "metadata": {
        "colab": {
          "base_uri": "https://localhost:8080/"
        },
        "id": "2gruMMF5Fts4",
        "outputId": "cb1b781d-d024-498b-d6ac-c6da4fdb78af"
      },
      "execution_count": 5,
      "outputs": [
        {
          "output_type": "stream",
          "name": "stdout",
          "text": [
            "tensor([2.1215, 1.7037, 1.4202], grad_fn=<AddBackward0>)\n"
          ]
        }
      ]
    },
    {
      "cell_type": "code",
      "source": [
        "z = y*y*2\n",
        "print(z)"
      ],
      "metadata": {
        "colab": {
          "base_uri": "https://localhost:8080/"
        },
        "id": "kgnp-V_vMeuw",
        "outputId": "e428da1e-9dc9-41b3-a065-53faa78404a5"
      },
      "execution_count": 6,
      "outputs": [
        {
          "output_type": "stream",
          "name": "stdout",
          "text": [
            "tensor([9.0013, 5.8055, 4.0338], grad_fn=<MulBackward0>)\n"
          ]
        }
      ]
    },
    {
      "cell_type": "code",
      "source": [
        "z = z.mean()\n",
        "print(z)"
      ],
      "metadata": {
        "colab": {
          "base_uri": "https://localhost:8080/"
        },
        "id": "quApSp3xNNST",
        "outputId": "b80b07a2-b1b8-4ae1-9af1-1cc727be22ed"
      },
      "execution_count": 7,
      "outputs": [
        {
          "output_type": "stream",
          "name": "stdout",
          "text": [
            "tensor(6.2802, grad_fn=<MeanBackward0>)\n"
          ]
        }
      ]
    },
    {
      "cell_type": "markdown",
      "source": [
        "When we want to compute gradient the only thing that we want to call is backward function."
      ],
      "metadata": {
        "id": "vPhOppm7NcCu"
      }
    },
    {
      "cell_type": "code",
      "source": [
        "z.backward() #this will compute gradient of z w.r.t x dz/dx\n",
        "print(x.grad) #this is where gradients are stored"
      ],
      "metadata": {
        "colab": {
          "base_uri": "https://localhost:8080/"
        },
        "id": "sKHZkNVPNU5e",
        "outputId": "59d1127a-353e-47e6-fba8-45fa8f0d796c"
      },
      "execution_count": 8,
      "outputs": [
        {
          "output_type": "stream",
          "name": "stdout",
          "text": [
            "tensor([2.8286, 2.2717, 1.8936])\n"
          ]
        }
      ]
    },
    {
      "cell_type": "code",
      "source": [
        "x = torch.randn(3, requires_grad=True)\n",
        "print(x)\n",
        "\n",
        "y = x+2\n",
        "print(y)\n",
        "z = y*y*2\n",
        "print(z) \n",
        "#if last step is not scaler we have to do pass vector like this\n",
        "v = torch.tensor([0.1,1.0,0.001], dtype=torch.float32)\n",
        "z.backward(v)   #dz/dx   chain-rule  \n",
        "print(x.grad)"
      ],
      "metadata": {
        "colab": {
          "base_uri": "https://localhost:8080/"
        },
        "id": "Ks91e1xqORAv",
        "outputId": "3e654e3a-7406-4ae2-efae-03dee44e5a1f"
      },
      "execution_count": 9,
      "outputs": [
        {
          "output_type": "stream",
          "name": "stdout",
          "text": [
            "tensor([-1.2803, -0.8732, -0.3490], requires_grad=True)\n",
            "tensor([0.7197, 1.1268, 1.6510], grad_fn=<AddBackward0>)\n",
            "tensor([1.0358, 2.5395, 5.4518], grad_fn=<MulBackward0>)\n",
            "tensor([0.2879, 4.5073, 0.0066])\n"
          ]
        }
      ]
    },
    {
      "cell_type": "markdown",
      "source": [
        "How can we prevent Pytorch from tracking the history? Sometimes during our training loop when we want to update our weights then tracking history should not be the part of gradient computation.\n",
        "\n",
        "\n",
        "First Method\n",
        "x.requires_grad_(False)\n",
        "\n",
        "2nd Method\n",
        "x.detach()  --this will create new tensor that doesn't require the gradient\n",
        "\n",
        "3rd Method\n",
        "with torch.no_grad(): "
      ],
      "metadata": {
        "id": "9wIw6zVq4Eag"
      }
    },
    {
      "cell_type": "code",
      "source": [
        "x = torch.randn(3, requires_grad=True)\n",
        "print(x)"
      ],
      "metadata": {
        "colab": {
          "base_uri": "https://localhost:8080/"
        },
        "id": "QUwdA5V34D38",
        "outputId": "d364d1e3-a011-4311-b864-4fbe9b5b8fbc"
      },
      "execution_count": 10,
      "outputs": [
        {
          "output_type": "stream",
          "name": "stdout",
          "text": [
            "tensor([ 0.9107, -0.3029,  1.4314], requires_grad=True)\n"
          ]
        }
      ]
    },
    {
      "cell_type": "code",
      "source": [
        "#First Method\n",
        "x.requires_grad_(False)\n",
        "print(x)"
      ],
      "metadata": {
        "colab": {
          "base_uri": "https://localhost:8080/"
        },
        "id": "tbXgj1Ra5fIq",
        "outputId": "d464a179-b623-4f50-c7c9-0c7f19d3bc30"
      },
      "execution_count": 11,
      "outputs": [
        {
          "output_type": "stream",
          "name": "stdout",
          "text": [
            "tensor([ 0.9107, -0.3029,  1.4314])\n"
          ]
        }
      ]
    },
    {
      "cell_type": "code",
      "source": [
        "#Second Method\n",
        "y = x.detach()\n",
        "print(y)"
      ],
      "metadata": {
        "colab": {
          "base_uri": "https://localhost:8080/"
        },
        "id": "u4cKf8PX5mx5",
        "outputId": "92ec9177-4a40-493c-8593-e5b8b18bfac3"
      },
      "execution_count": 12,
      "outputs": [
        {
          "output_type": "stream",
          "name": "stdout",
          "text": [
            "tensor([ 0.9107, -0.3029,  1.4314])\n"
          ]
        }
      ]
    },
    {
      "cell_type": "code",
      "source": [
        "\n",
        "#Third Method\n",
        "with torch.no_grad():\n",
        "    y = x + 2\n",
        "    print(y)\n",
        "\n"
      ],
      "metadata": {
        "colab": {
          "base_uri": "https://localhost:8080/"
        },
        "id": "MY7Amj7f5wtd",
        "outputId": "01d1ff35-15bf-4244-fdd5-2865b89a3186"
      },
      "execution_count": 15,
      "outputs": [
        {
          "output_type": "stream",
          "name": "stdout",
          "text": [
            "tensor([2.9107, 1.6971, 3.4314])\n",
            "tensor([2.9107, 1.6971, 3.4314])\n"
          ]
        }
      ]
    },
    {
      "cell_type": "code",
      "source": [
        "a = torch.randn(3, requires_grad=True)\n",
        "print(a)\n",
        "\n",
        "b = a+2\n",
        "print(b)"
      ],
      "metadata": {
        "colab": {
          "base_uri": "https://localhost:8080/"
        },
        "id": "WETsHMmc78xF",
        "outputId": "eb278563-5455-43ea-89a1-2bd3a1b671d2"
      },
      "execution_count": 19,
      "outputs": [
        {
          "output_type": "stream",
          "name": "stdout",
          "text": [
            "tensor([ 1.3345, -1.1855, -0.9201], requires_grad=True)\n",
            "tensor([3.3345, 0.8145, 1.0799], grad_fn=<AddBackward0>)\n"
          ]
        }
      ]
    },
    {
      "cell_type": "markdown",
      "source": [
        "One more very important thing is that we should also know is that whenever we call the backward function then the gradient for this tensor will be accumlated into the dot grad attribute so their values will be summed up."
      ],
      "metadata": {
        "id": "JnmBofkn9X9c"
      }
    },
    {
      "cell_type": "code",
      "source": [
        "#For example\n",
        "\n",
        "weights = torch.ones(4, requires_grad=True)\n",
        "\n",
        "for epoch in range(2):\n",
        "    model_output = (weights*3).sum()\n",
        "    \n",
        "    model_output.backward()\n",
        "\n",
        "    print(weights.grad)\n",
        "\n"
      ],
      "metadata": {
        "colab": {
          "base_uri": "https://localhost:8080/"
        },
        "id": "i1dOFUX58buh",
        "outputId": "6e1a4d3c-ad93-4fdb-ab35-3b2ed84d1091"
      },
      "execution_count": 23,
      "outputs": [
        {
          "output_type": "stream",
          "name": "stdout",
          "text": [
            "tensor([3., 3., 3., 3.])\n",
            "tensor([6., 6., 6., 6.])\n"
          ]
        }
      ]
    },
    {
      "cell_type": "markdown",
      "source": [
        "Notice that second backward call will again accumlate the values and write them into the grad attribute, so all the values are summed up and now our weights and our gradients are clearly incorrect so before we do the next iteration and optimization step we must empty the gradients so we must call weigths.grad.zero_()"
      ],
      "metadata": {
        "id": "e_Hd88_l_C1R"
      }
    },
    {
      "cell_type": "code",
      "source": [
        "weights = torch.ones(4, requires_grad=True)\n",
        "\n",
        "for epoch in range(2):\n",
        "    model_output = (weights*3).sum()\n",
        "    \n",
        "    model_output.backward()\n",
        "\n",
        "    print(weights.grad)\n",
        "\n",
        "    weights.grad.zero_()"
      ],
      "metadata": {
        "colab": {
          "base_uri": "https://localhost:8080/"
        },
        "id": "Zc2BPjz1-r8-",
        "outputId": "ee26c37a-45e5-44fa-8d47-2f83eb917431"
      },
      "execution_count": 24,
      "outputs": [
        {
          "output_type": "stream",
          "name": "stdout",
          "text": [
            "tensor([3., 3., 3., 3.])\n",
            "tensor([3., 3., 3., 3.])\n"
          ]
        }
      ]
    },
    {
      "cell_type": "code",
      "source": [
        "#if we use built-in optimizer\n",
        "\n",
        "weights = torch.ones(4, requires_grad=True)\n",
        "\n",
        "#optimizer = torch.optim.SGD(weights, lr=0.01)\n",
        "#optimizer.step()\n",
        "#optimizer.zero_grad()"
      ],
      "metadata": {
        "id": "EiFR7MPz_tbn"
      },
      "execution_count": 26,
      "outputs": []
    },
    {
      "cell_type": "code",
      "source": [
        ""
      ],
      "metadata": {
        "id": "Hcbe_fGXAa8h"
      },
      "execution_count": null,
      "outputs": []
    }
  ]
}
