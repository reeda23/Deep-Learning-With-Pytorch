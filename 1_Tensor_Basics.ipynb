{
  "nbformat": 4,
  "nbformat_minor": 0,
  "metadata": {
    "colab": {
      "name": "1.Tensor_Basics.ipynb",
      "provenance": [],
      "collapsed_sections": [],
      "authorship_tag": "ABX9TyPct3DRT8VcudsRe5FpnEiv",
      "include_colab_link": true
    },
    "kernelspec": {
      "name": "python3",
      "display_name": "Python 3"
    },
    "language_info": {
      "name": "python"
    }
  },
  "cells": [
    {
      "cell_type": "markdown",
      "metadata": {
        "id": "view-in-github",
        "colab_type": "text"
      },
      "source": [
        "<a href=\"https://colab.research.google.com/github/reeda23/Deep-Learning-With-Pytorch/blob/main/1_Tensor_Basics.ipynb\" target=\"_parent\"><img src=\"https://colab.research.google.com/assets/colab-badge.svg\" alt=\"Open In Colab\"/></a>"
      ]
    },
    {
      "cell_type": "markdown",
      "source": [
        "# Getting Started with Pytorch"
      ],
      "metadata": {
        "id": "2_UQStc1WFDk"
      }
    },
    {
      "cell_type": "code",
      "execution_count": 38,
      "metadata": {
        "id": "J5nqr0feROMJ"
      },
      "outputs": [],
      "source": [
        "import torch\n",
        "import numpy as np"
      ]
    },
    {
      "cell_type": "markdown",
      "source": [
        "**PyTorch: Tensors**\n",
        "A PyTorch Tensor is basically the same as a numpy array: it does not know anything about deep learning or computational graphs or gradients, and is just a generic n-dimensional array to be used for arbitrary numeric computation.\n",
        "[To read more about tensors see the offical documentation](https://pytorch.org/tutorials/beginner/examples_tensor/polynomial_tensor.html)\n"
      ],
      "metadata": {
        "id": "U5sqbk2uTQ14"
      }
    },
    {
      "cell_type": "code",
      "source": [
        "#scaler value\n",
        "x = torch.empty(1)\n",
        "\n",
        "#this will print empty tensor whose value is not initialized yet\n",
        "print(x)"
      ],
      "metadata": {
        "colab": {
          "base_uri": "https://localhost:8080/"
        },
        "id": "NBcruwqzRopJ",
        "outputId": "12fad203-9bf0-4e64-f32d-f3d3b84d6557"
      },
      "execution_count": 3,
      "outputs": [
        {
          "output_type": "stream",
          "name": "stdout",
          "text": [
            "tensor([9.9642e-35])\n"
          ]
        }
      ]
    },
    {
      "cell_type": "code",
      "source": [
        "#1D vector with 3 elements\n",
        "\n",
        "x = torch.empty(3)\n",
        "print(x)"
      ],
      "metadata": {
        "colab": {
          "base_uri": "https://localhost:8080/"
        },
        "id": "JA8a-BCKR-Nq",
        "outputId": "72fda940-7d6a-43af-dcc4-63e4b2ac8c2f"
      },
      "execution_count": 4,
      "outputs": [
        {
          "output_type": "stream",
          "name": "stdout",
          "text": [
            "tensor([9.9671e-35, 0.0000e+00, 1.5975e-43])\n"
          ]
        }
      ]
    },
    {
      "cell_type": "code",
      "source": [
        "#2D Matrix\n",
        "\n",
        "x= torch.empty(2,3)\n",
        "print(x)"
      ],
      "metadata": {
        "colab": {
          "base_uri": "https://localhost:8080/"
        },
        "id": "enBw5eHVSUFP",
        "outputId": "ba3c1201-b1b3-4e7e-a77a-944375bb8d3f"
      },
      "execution_count": 5,
      "outputs": [
        {
          "output_type": "stream",
          "name": "stdout",
          "text": [
            "tensor([[9.9678e-35, 0.0000e+00, 3.3631e-44],\n",
            "        [0.0000e+00,        nan, 0.0000e+00]])\n"
          ]
        }
      ]
    },
    {
      "cell_type": "code",
      "source": [
        "#3D Matrix\n",
        "\n",
        "x = torch.empty(2,2,3)\n",
        "print(x)"
      ],
      "metadata": {
        "colab": {
          "base_uri": "https://localhost:8080/"
        },
        "id": "KW6Q9z8WSfAY",
        "outputId": "31077f24-5ee0-4f66-d160-81653844ed3a"
      },
      "execution_count": 6,
      "outputs": [
        {
          "output_type": "stream",
          "name": "stdout",
          "text": [
            "tensor([[[9.9680e-35, 0.0000e+00, 1.5975e-43],\n",
            "         [1.3873e-43, 1.4574e-43, 6.4460e-44]],\n",
            "\n",
            "        [[1.4153e-43, 1.5274e-43, 1.5695e-43],\n",
            "         [1.6255e-43, 1.6956e-43, 3.7404e-14]]])\n"
          ]
        }
      ]
    },
    {
      "cell_type": "code",
      "source": [
        "#4D Matrix\n",
        "\n",
        "x = torch.empty(2,2,2,3)\n",
        "print(x)"
      ],
      "metadata": {
        "colab": {
          "base_uri": "https://localhost:8080/"
        },
        "id": "dPS6IJPvSqdi",
        "outputId": "8370ba84-f332-4f24-cb9a-f5670189bbc3"
      },
      "execution_count": 7,
      "outputs": [
        {
          "output_type": "stream",
          "name": "stdout",
          "text": [
            "tensor([[[[9.7779e-35, 0.0000e+00, 7.0065e-44],\n",
            "          [7.0065e-44, 6.3058e-44, 6.7262e-44]],\n",
            "\n",
            "         [[7.4269e-44, 6.3058e-44, 7.0065e-44],\n",
            "          [7.1466e-44, 1.1771e-43, 6.7262e-44]]],\n",
            "\n",
            "\n",
            "        [[[7.4269e-44, 8.1275e-44, 6.7262e-44],\n",
            "          [7.0065e-44, 8.1275e-44, 7.1466e-44]],\n",
            "\n",
            "         [[7.2868e-44, 6.4460e-44, 7.5670e-44],\n",
            "          [7.1466e-44, 6.7262e-44, 7.9874e-44]]]])\n"
          ]
        }
      ]
    },
    {
      "cell_type": "code",
      "source": [
        "#can create tensor with random values\n",
        "\n",
        "x = torch.rand(2,3)\n",
        "x"
      ],
      "metadata": {
        "colab": {
          "base_uri": "https://localhost:8080/"
        },
        "id": "HL6Npc3SS6dz",
        "outputId": "ab5641e3-9b2e-4b6b-b371-aac9b31f49f9"
      },
      "execution_count": 9,
      "outputs": [
        {
          "output_type": "execute_result",
          "data": {
            "text/plain": [
              "tensor([[0.6064, 0.7043, 0.7698],\n",
              "        [0.4130, 0.5882, 0.7092]])"
            ]
          },
          "metadata": {},
          "execution_count": 9
        }
      ]
    },
    {
      "cell_type": "code",
      "source": [
        "#matrix with all zeros\n",
        "\n",
        "x = torch.zeros(2,2)\n",
        "print(x)"
      ],
      "metadata": {
        "colab": {
          "base_uri": "https://localhost:8080/"
        },
        "id": "gThjOmwBTGS4",
        "outputId": "16a3cb55-1265-41a3-ec80-5c6bf026b6cb"
      },
      "execution_count": 10,
      "outputs": [
        {
          "output_type": "stream",
          "name": "stdout",
          "text": [
            "tensor([[0., 0.],\n",
            "        [0., 0.]])\n"
          ]
        }
      ]
    },
    {
      "cell_type": "code",
      "source": [
        "#matrix with all ones\n",
        "\n",
        "x = torch.ones(2,3)\n",
        "print(x)\n",
        "\n",
        "#if you want to see the datatype\n",
        "print(x.dtype)"
      ],
      "metadata": {
        "colab": {
          "base_uri": "https://localhost:8080/"
        },
        "id": "O2vcYOehT3FU",
        "outputId": "faebe24c-d427-40e8-c14c-0cd410c08fe5"
      },
      "execution_count": 14,
      "outputs": [
        {
          "output_type": "stream",
          "name": "stdout",
          "text": [
            "tensor([[1., 1., 1.],\n",
            "        [1., 1., 1.]])\n",
            "torch.float32\n"
          ]
        }
      ]
    },
    {
      "cell_type": "code",
      "source": [
        "#we can also specify data type\n",
        "\n",
        "x = torch.ones(2,2, dtype=torch.int)\n",
        "print(x)"
      ],
      "metadata": {
        "colab": {
          "base_uri": "https://localhost:8080/"
        },
        "id": "5ig6WtsKT9ld",
        "outputId": "b310090d-c018-424f-ed27-7597e1f40481"
      },
      "execution_count": 15,
      "outputs": [
        {
          "output_type": "stream",
          "name": "stdout",
          "text": [
            "tensor([[1, 1],\n",
            "        [1, 1]], dtype=torch.int32)\n"
          ]
        }
      ]
    },
    {
      "cell_type": "code",
      "source": [
        "#to see the size, Note:size is a function\n",
        "\n",
        "import torch\n",
        "\n",
        "x = torch.ones(2,2, dtype= torch.float16)\n",
        "print()\n",
        "print(x.size())"
      ],
      "metadata": {
        "colab": {
          "base_uri": "https://localhost:8080/"
        },
        "id": "iyClRg9ZUfJ3",
        "outputId": "c6ff6a95-72eb-4194-dfc0-05e40ef7a8f9"
      },
      "execution_count": 16,
      "outputs": [
        {
          "output_type": "stream",
          "name": "stdout",
          "text": [
            "torch.Size([2, 2])\n"
          ]
        }
      ]
    },
    {
      "cell_type": "code",
      "source": [
        "#creating tensor/array/matrix with some list\n",
        "\n",
        "x = torch.tensor([2.5,0.1])\n",
        "print(x)"
      ],
      "metadata": {
        "colab": {
          "base_uri": "https://localhost:8080/"
        },
        "id": "G0PUlbRoU4mu",
        "outputId": "21c0f374-c2eb-4893-b6dd-18f2a364e2db"
      },
      "execution_count": 17,
      "outputs": [
        {
          "output_type": "stream",
          "name": "stdout",
          "text": [
            "tensor([2.5000, 0.1000])\n"
          ]
        }
      ]
    },
    {
      "cell_type": "markdown",
      "source": [
        "# Basic Arithmetic Operations"
      ],
      "metadata": {
        "id": "aCyppYItWM0b"
      }
    },
    {
      "cell_type": "code",
      "source": [
        "x = torch.rand(2,2)\n",
        "y = torch.rand(2,2)\n",
        "print(x)\n",
        "print(y)"
      ],
      "metadata": {
        "colab": {
          "base_uri": "https://localhost:8080/"
        },
        "id": "DU3dmSUVV-kB",
        "outputId": "49beea45-d3f3-4a3c-f6c9-18b75ce6fd4a"
      },
      "execution_count": 18,
      "outputs": [
        {
          "output_type": "stream",
          "name": "stdout",
          "text": [
            "tensor([[0.6708, 0.4070],\n",
            "        [0.2610, 0.1599]])\n",
            "tensor([[0.3750, 0.2553],\n",
            "        [0.2888, 0.6070]])\n"
          ]
        }
      ]
    },
    {
      "cell_type": "code",
      "source": [
        "#simple element-wise addition\n",
        "z = x + y\n",
        "print(z)"
      ],
      "metadata": {
        "colab": {
          "base_uri": "https://localhost:8080/"
        },
        "id": "hkQZj0usWeBg",
        "outputId": "118190c9-4a75-472f-99e1-f19112fe03bc"
      },
      "execution_count": 20,
      "outputs": [
        {
          "output_type": "stream",
          "name": "stdout",
          "text": [
            "tensor([[1.0458, 0.6624],\n",
            "        [0.5498, 0.7669]])\n"
          ]
        }
      ]
    },
    {
      "cell_type": "code",
      "source": [
        "#another way of adding\n",
        "z = torch.add(x,y)\n",
        "print(z)"
      ],
      "metadata": {
        "colab": {
          "base_uri": "https://localhost:8080/"
        },
        "id": "mspTPr8OWoKp",
        "outputId": "0fd885fe-2ccf-4ca2-8b36-ac85447a768a"
      },
      "execution_count": 23,
      "outputs": [
        {
          "output_type": "stream",
          "name": "stdout",
          "text": [
            "tensor([[1.0458, 0.6624],\n",
            "        [0.5498, 0.7669]])\n"
          ]
        }
      ]
    },
    {
      "cell_type": "code",
      "source": [
        "# can also do inplace addition\n",
        "# Note: In pytorch every function that has trailing _ will perform inplace operation\n",
        "y.add_(x)\n",
        "\n",
        "#modify the elements of y\n",
        "print(y)"
      ],
      "metadata": {
        "colab": {
          "base_uri": "https://localhost:8080/"
        },
        "id": "vlVQ4diPW08y",
        "outputId": "8a09f067-61aa-462e-d3e2-11f8274f0f9b"
      },
      "execution_count": 24,
      "outputs": [
        {
          "output_type": "stream",
          "name": "stdout",
          "text": [
            "tensor([[1.0458, 0.6624],\n",
            "        [0.5498, 0.7669]])\n"
          ]
        }
      ]
    },
    {
      "cell_type": "code",
      "source": [
        "#element-wise subtraction\n",
        "z = x - y\n",
        "print(z)"
      ],
      "metadata": {
        "colab": {
          "base_uri": "https://localhost:8080/"
        },
        "id": "qVkr1Jd9XLNj",
        "outputId": "40f9fdc2-f3dd-4553-9199-9e9de06e2d61"
      },
      "execution_count": 25,
      "outputs": [
        {
          "output_type": "stream",
          "name": "stdout",
          "text": [
            "tensor([[-0.3750, -0.2553],\n",
            "        [-0.2888, -0.6070]])\n"
          ]
        }
      ]
    },
    {
      "cell_type": "code",
      "source": [
        "#another way of doing subtraction\n",
        "z = torch.sub(x, y)\n",
        "print(z)"
      ],
      "metadata": {
        "colab": {
          "base_uri": "https://localhost:8080/"
        },
        "id": "Tk2DlfQ4X79M",
        "outputId": "23b86189-be12-4391-a380-015d1a21ab2f"
      },
      "execution_count": 26,
      "outputs": [
        {
          "output_type": "stream",
          "name": "stdout",
          "text": [
            "tensor([[-0.3750, -0.2553],\n",
            "        [-0.2888, -0.6070]])\n"
          ]
        }
      ]
    },
    {
      "cell_type": "code",
      "source": [
        "#element-wise multiplication\n",
        "z = x*y\n",
        "print(z)"
      ],
      "metadata": {
        "colab": {
          "base_uri": "https://localhost:8080/"
        },
        "id": "uEnL-Y5sYGwY",
        "outputId": "34565fea-23df-4b68-89b6-c889edda8fd6"
      },
      "execution_count": 27,
      "outputs": [
        {
          "output_type": "stream",
          "name": "stdout",
          "text": [
            "tensor([[0.7015, 0.2696],\n",
            "        [0.1435, 0.1226]])\n"
          ]
        }
      ]
    },
    {
      "cell_type": "code",
      "source": [
        "#alternate way\n",
        "z = torch.mul(x,y)\n",
        "print(z)"
      ],
      "metadata": {
        "colab": {
          "base_uri": "https://localhost:8080/"
        },
        "id": "YaLD-UCYYTnW",
        "outputId": "70057c3a-4198-4aa5-bb3a-6175a8306060"
      },
      "execution_count": 28,
      "outputs": [
        {
          "output_type": "stream",
          "name": "stdout",
          "text": [
            "tensor([[0.7015, 0.2696],\n",
            "        [0.1435, 0.1226]])\n"
          ]
        }
      ]
    },
    {
      "cell_type": "code",
      "source": [
        "#element-wise division\n",
        "\n",
        "z = torch.div(x,y)\n",
        "print(z)"
      ],
      "metadata": {
        "colab": {
          "base_uri": "https://localhost:8080/"
        },
        "id": "msecnA6fY8Js",
        "outputId": "42bb6796-a68b-4e2a-a979-9076a38c26c8"
      },
      "execution_count": 30,
      "outputs": [
        {
          "output_type": "stream",
          "name": "stdout",
          "text": [
            "tensor([[0.6414, 0.6145],\n",
            "        [0.4747, 0.2085]])\n"
          ]
        }
      ]
    },
    {
      "cell_type": "markdown",
      "source": [
        "# Slicing Operations"
      ],
      "metadata": {
        "id": "SzUPtWEqZVtu"
      }
    },
    {
      "cell_type": "code",
      "source": [
        "#can use slicing operations just like numpy array\n",
        "\n",
        "x = torch.rand(5,3)\n",
        "print(x)"
      ],
      "metadata": {
        "colab": {
          "base_uri": "https://localhost:8080/"
        },
        "id": "S9-kYxD9ZCKk",
        "outputId": "7dc43bf1-3dfa-4f66-ffa5-ffce60dac241"
      },
      "execution_count": 31,
      "outputs": [
        {
          "output_type": "stream",
          "name": "stdout",
          "text": [
            "tensor([[0.7407, 0.7211, 0.5337],\n",
            "        [0.3072, 0.6715, 0.6984],\n",
            "        [0.4830, 0.9436, 0.3622],\n",
            "        [0.3045, 0.7659, 0.8795],\n",
            "        [0.9034, 0.9612, 0.3314]])\n"
          ]
        }
      ]
    },
    {
      "cell_type": "code",
      "source": [
        "#all rows but one column\n",
        "print(x[:, 0])"
      ],
      "metadata": {
        "colab": {
          "base_uri": "https://localhost:8080/"
        },
        "id": "84HkipLuZuHU",
        "outputId": "023b5a42-0401-408e-c7c7-51127e57d40f"
      },
      "execution_count": 32,
      "outputs": [
        {
          "output_type": "stream",
          "name": "stdout",
          "text": [
            "tensor([0.7407, 0.3072, 0.4830, 0.3045, 0.9034])\n"
          ]
        }
      ]
    },
    {
      "cell_type": "code",
      "source": [
        "#only first row but all columns\n",
        "print(x[1,:])"
      ],
      "metadata": {
        "colab": {
          "base_uri": "https://localhost:8080/"
        },
        "id": "23urGLb3Z5H0",
        "outputId": "3a767348-4fcd-4305-d455-038f22329e9f"
      },
      "execution_count": 33,
      "outputs": [
        {
          "output_type": "stream",
          "name": "stdout",
          "text": [
            "tensor([0.3072, 0.6715, 0.6984])\n"
          ]
        }
      ]
    },
    {
      "cell_type": "code",
      "source": [
        "#only one value\n",
        "\n",
        "print(x[1,1])"
      ],
      "metadata": {
        "colab": {
          "base_uri": "https://localhost:8080/"
        },
        "id": "FeFLFC2yaPoz",
        "outputId": "369b6ab5-ef6d-41d0-ab1a-09294d5842ba"
      },
      "execution_count": 34,
      "outputs": [
        {
          "output_type": "stream",
          "name": "stdout",
          "text": [
            "tensor(0.6715)\n"
          ]
        }
      ]
    },
    {
      "cell_type": "code",
      "source": [
        "#if you want to get the value of tensor\n",
        "#Note this can only be used if you have only one value in the tensor\n",
        "print(x[1,1].item())"
      ],
      "metadata": {
        "colab": {
          "base_uri": "https://localhost:8080/"
        },
        "id": "ZJyycKVxajL5",
        "outputId": "83c37f79-6561-4801-e7db-423cbab42e32"
      },
      "execution_count": 35,
      "outputs": [
        {
          "output_type": "stream",
          "name": "stdout",
          "text": [
            "0.671501636505127\n"
          ]
        }
      ]
    },
    {
      "cell_type": "code",
      "source": [
        "#Reshaping tensor\n",
        "\n",
        "x = torch.rand(4,4)\n",
        "print(x)\n",
        "\n",
        "#can reshape using view method\n",
        "#now we want 1-dimension only\n",
        "#no of values should be the same e.g 4x4 = 16 \n",
        "y = x.view(16)\n",
        "print(y)\n",
        "\n",
        "#if we don't want to put dimension we can say, pytorch will automatically \n",
        "#determine the right size for it\n",
        "y = x.view(-1,8)\n",
        "print(y)"
      ],
      "metadata": {
        "colab": {
          "base_uri": "https://localhost:8080/"
        },
        "id": "T1cIrCflayFy",
        "outputId": "9c3e383f-7654-4643-fd14-90cdf03d841e"
      },
      "execution_count": 37,
      "outputs": [
        {
          "output_type": "stream",
          "name": "stdout",
          "text": [
            "tensor([[0.3026, 0.5617, 0.6261, 0.2885],\n",
            "        [0.9797, 0.7187, 0.9394, 0.4519],\n",
            "        [0.7413, 0.5351, 0.5235, 0.3627],\n",
            "        [0.5201, 0.4051, 0.8699, 0.8866]])\n",
            "tensor([0.3026, 0.5617, 0.6261, 0.2885, 0.9797, 0.7187, 0.9394, 0.4519, 0.7413,\n",
            "        0.5351, 0.5235, 0.3627, 0.5201, 0.4051, 0.8699, 0.8866])\n",
            "tensor([[0.3026, 0.5617, 0.6261, 0.2885, 0.9797, 0.7187, 0.9394, 0.4519],\n",
            "        [0.7413, 0.5351, 0.5235, 0.3627, 0.5201, 0.4051, 0.8699, 0.8866]])\n"
          ]
        }
      ]
    },
    {
      "cell_type": "markdown",
      "source": [
        "# Converting from Numpy to Torch Tensor and Vice Versa"
      ],
      "metadata": {
        "id": "H1H1UisNcOr6"
      }
    },
    {
      "cell_type": "code",
      "source": [
        "a = torch.ones(5)\n",
        "print(a)"
      ],
      "metadata": {
        "colab": {
          "base_uri": "https://localhost:8080/"
        },
        "id": "ZBr6QB03bckp",
        "outputId": "c4831dab-4209-4ff7-b1c7-4d639693a57e"
      },
      "execution_count": 39,
      "outputs": [
        {
          "output_type": "stream",
          "name": "stdout",
          "text": [
            "tensor([1., 1., 1., 1., 1.])\n"
          ]
        }
      ]
    },
    {
      "cell_type": "code",
      "source": [
        "#if we want numpy array we can say\n",
        "b = a.numpy()\n",
        "print(b)"
      ],
      "metadata": {
        "colab": {
          "base_uri": "https://localhost:8080/"
        },
        "id": "jmmyR38bcmWV",
        "outputId": "b3b5607b-3032-4cd7-e28e-80fc88e1caf9"
      },
      "execution_count": 40,
      "outputs": [
        {
          "output_type": "stream",
          "name": "stdout",
          "text": [
            "[1. 1. 1. 1. 1.]\n"
          ]
        }
      ]
    },
    {
      "cell_type": "code",
      "source": [
        "print(type(a))\n",
        "print(type(b))"
      ],
      "metadata": {
        "colab": {
          "base_uri": "https://localhost:8080/"
        },
        "id": "WPwssrjbcv1J",
        "outputId": "262d6a34-2489-49b1-a450-d64c34cc4bee"
      },
      "execution_count": 42,
      "outputs": [
        {
          "output_type": "stream",
          "name": "stdout",
          "text": [
            "<class 'torch.Tensor'>\n",
            "<class 'numpy.ndarray'>\n"
          ]
        }
      ]
    },
    {
      "cell_type": "markdown",
      "source": [
        "Note: If the tensor is on CPU and not on the GPU then both objects will share the same memory location, so this means if we change one it will also change the other"
      ],
      "metadata": {
        "id": "CZxOAwNrdENG"
      }
    },
    {
      "cell_type": "code",
      "source": [
        "#if we modify a or b in-place\n",
        "#add 1 to each element of a\n",
        "a.add_(1)\n",
        "print(a)"
      ],
      "metadata": {
        "colab": {
          "base_uri": "https://localhost:8080/"
        },
        "id": "CqfzTSB5c3Ip",
        "outputId": "e239a2c3-83cd-4936-b189-b2732864649f"
      },
      "execution_count": 44,
      "outputs": [
        {
          "output_type": "stream",
          "name": "stdout",
          "text": [
            "tensor([3., 3., 3., 3., 3.])\n"
          ]
        }
      ]
    },
    {
      "cell_type": "code",
      "source": [
        "print(b)"
      ],
      "metadata": {
        "colab": {
          "base_uri": "https://localhost:8080/"
        },
        "id": "f5wNXacYdp8H",
        "outputId": "1c07cba7-2ec3-4788-f258-53e48c2ddbfb"
      },
      "execution_count": 45,
      "outputs": [
        {
          "output_type": "stream",
          "name": "stdout",
          "text": [
            "[3. 3. 3. 3. 3.]\n"
          ]
        }
      ]
    },
    {
      "cell_type": "markdown",
      "source": [
        "So both changed because they both point to the same memory location"
      ],
      "metadata": {
        "id": "ObsyTg_1d3R3"
      }
    },
    {
      "cell_type": "code",
      "source": [
        "# Other way \n",
        "\n",
        "a = np.ones(5)\n",
        "print(a)"
      ],
      "metadata": {
        "colab": {
          "base_uri": "https://localhost:8080/"
        },
        "id": "dTtFDoRKduaD",
        "outputId": "f8518679-fa12-4db8-f221-fdaab2477167"
      },
      "execution_count": 46,
      "outputs": [
        {
          "output_type": "stream",
          "name": "stdout",
          "text": [
            "[1. 1. 1. 1. 1.]\n"
          ]
        }
      ]
    },
    {
      "cell_type": "code",
      "source": [
        "b = torch.from_numpy(a)"
      ],
      "metadata": {
        "id": "LYeK-sGweKg8"
      },
      "execution_count": 47,
      "outputs": []
    },
    {
      "cell_type": "code",
      "source": [
        "print(b)"
      ],
      "metadata": {
        "colab": {
          "base_uri": "https://localhost:8080/"
        },
        "id": "9QFKnlOdeP38",
        "outputId": "2e03b0ca-04a8-4a68-e898-06585b69939a"
      },
      "execution_count": 48,
      "outputs": [
        {
          "output_type": "stream",
          "name": "stdout",
          "text": [
            "tensor([1., 1., 1., 1., 1.], dtype=torch.float64)\n"
          ]
        }
      ]
    },
    {
      "cell_type": "code",
      "source": [
        "#if we modify one other will change\n",
        "#incrementing numpy array by 1\n",
        "a +=1\n",
        "print(a)\n",
        "print(b)"
      ],
      "metadata": {
        "colab": {
          "base_uri": "https://localhost:8080/"
        },
        "id": "JC875wI5eRg6",
        "outputId": "5ff3f6f9-2972-4ebb-c23c-ca873feade30"
      },
      "execution_count": 50,
      "outputs": [
        {
          "output_type": "stream",
          "name": "stdout",
          "text": [
            "[3. 3. 3. 3. 3.]\n",
            "tensor([3., 3., 3., 3., 3.], dtype=torch.float64)\n"
          ]
        }
      ]
    },
    {
      "cell_type": "code",
      "source": [
        "#if you want to specify tensor on gpu\n",
        "\n",
        "if torch.cuda.is_available():\n",
        "    device = torch.device(\"cuda\")\n",
        "    x = torch.ones(5, device= device)\n",
        "    y = torch.ones(5)\n",
        "    y = y.to(device) \n",
        "    z = x + y  #now this will perform on GPU\n",
        "    z.numpy() #if we call this z.numpy() it will create error because numpy can \n",
        "    #only handly cpu tensors\n",
        "    z = z.to(\"cpu\")"
      ],
      "metadata": {
        "id": "lcQjK0ThekaX"
      },
      "execution_count": null,
      "outputs": []
    },
    {
      "cell_type": "markdown",
      "source": [
        "By default requies_grad is False, if we want to compute gradients we specify it as True. This means whenever we have a variable in our model that we want to optimize we need gradients."
      ],
      "metadata": {
        "id": "j66fLzc4gNdS"
      }
    },
    {
      "cell_type": "code",
      "source": [
        "x = torch.ones(5, requires_grad=True)\n",
        "print(x)"
      ],
      "metadata": {
        "colab": {
          "base_uri": "https://localhost:8080/"
        },
        "id": "VxeVE31NgYKZ",
        "outputId": "927bbdba-3990-4078-8ad1-4afafc312b54"
      },
      "execution_count": 51,
      "outputs": [
        {
          "output_type": "stream",
          "name": "stdout",
          "text": [
            "tensor([1., 1., 1., 1., 1.], requires_grad=True)\n"
          ]
        }
      ]
    },
    {
      "cell_type": "code",
      "source": [
        ""
      ],
      "metadata": {
        "id": "l3AYwe17gfke"
      },
      "execution_count": null,
      "outputs": []
    }
  ]
}
